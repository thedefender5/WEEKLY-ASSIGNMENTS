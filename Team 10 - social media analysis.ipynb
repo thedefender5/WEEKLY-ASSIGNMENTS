{
 "cells": [
  {
   "cell_type": "markdown",
   "id": "cc7498d3",
   "metadata": {},
   "source": [
    "## Group 10\n",
    "## Domain- Social Media Analysis"
   ]
  },
  {
   "cell_type": "markdown",
   "id": "4641caa5",
   "metadata": {},
   "source": [
    "## Importing the libraries needed"
   ]
  },
  {
   "cell_type": "code",
   "execution_count": 77,
   "id": "84e414cd",
   "metadata": {},
   "outputs": [],
   "source": [
    "import pandas as pd\n",
    "import numpy as np\n",
    "import matplotlib.pyplot as plt\n",
    "import seaborn as sns\n",
    "import warnings \n",
    "warnings.filterwarnings('ignore')"
   ]
  },
  {
   "cell_type": "markdown",
   "id": "571b3954",
   "metadata": {},
   "source": [
    "# 1.Data collection"
   ]
  },
  {
   "cell_type": "markdown",
   "id": "099ed76e",
   "metadata": {},
   "source": [
    "The dataset used here for siocial media analysis is about the social media usage of 1628 individuals , here the usage time of facebook ,whatsapp and instagram is given.Target is selected as the total social media usage. \n",
    "\n",
    "Here along with usage times , a persons age,city,gender,current status and phone OS is also given"
   ]
  },
  {
   "cell_type": "markdown",
   "id": "e5f6b9cc",
   "metadata": {},
   "source": [
    "## Reading the dataset to the python environment"
   ]
  },
  {
   "cell_type": "code",
   "execution_count": 78,
   "id": "aa9484bd",
   "metadata": {},
   "outputs": [],
   "source": [
    "data= pd.read_csv('socialmedia.csv')"
   ]
  },
  {
   "cell_type": "code",
   "execution_count": 79,
   "id": "50644edd",
   "metadata": {},
   "outputs": [
    {
     "data": {
      "text/html": [
       "<div>\n",
       "<style scoped>\n",
       "    .dataframe tbody tr th:only-of-type {\n",
       "        vertical-align: middle;\n",
       "    }\n",
       "\n",
       "    .dataframe tbody tr th {\n",
       "        vertical-align: top;\n",
       "    }\n",
       "\n",
       "    .dataframe thead th {\n",
       "        text-align: right;\n",
       "    }\n",
       "</style>\n",
       "<table border=\"1\" class=\"dataframe\">\n",
       "  <thead>\n",
       "    <tr style=\"text-align: right;\">\n",
       "      <th></th>\n",
       "      <th>Age</th>\n",
       "      <th>City</th>\n",
       "      <th>Current Status</th>\n",
       "      <th>Do you own multiple profiles on Instagram?</th>\n",
       "      <th>Gender</th>\n",
       "      <th>Highest Education</th>\n",
       "      <th>Location (City Airport Code)</th>\n",
       "      <th>Phone OS</th>\n",
       "      <th>State</th>\n",
       "      <th>Zone</th>\n",
       "      <th>...</th>\n",
       "      <th>Time Spent on Instagram in last week (in minutes)</th>\n",
       "      <th>Time Spent on Instagram in last weekend (in minutes)</th>\n",
       "      <th>Time Spent on WhatsApp in last week (in minutes)</th>\n",
       "      <th>Time Spent on WhatsApp in last weekend (in minutes)</th>\n",
       "      <th>Total Facebook Usage</th>\n",
       "      <th>Total Instagram Usage</th>\n",
       "      <th>Total Social Media Usage</th>\n",
       "      <th>Total Week Usage</th>\n",
       "      <th>Total Weekend Usage</th>\n",
       "      <th>Total WhatsApp Usage</th>\n",
       "    </tr>\n",
       "  </thead>\n",
       "  <tbody>\n",
       "    <tr>\n",
       "      <th>0</th>\n",
       "      <td>24</td>\n",
       "      <td>Delhi</td>\n",
       "      <td>Working professional</td>\n",
       "      <td>No</td>\n",
       "      <td>Female</td>\n",
       "      <td>Graduation</td>\n",
       "      <td>DEL</td>\n",
       "      <td>iOs</td>\n",
       "      <td>Delhi</td>\n",
       "      <td>Northern</td>\n",
       "      <td>...</td>\n",
       "      <td>770</td>\n",
       "      <td>400</td>\n",
       "      <td>900</td>\n",
       "      <td>120</td>\n",
       "      <td>0</td>\n",
       "      <td>1,170</td>\n",
       "      <td>2,190</td>\n",
       "      <td>1,670</td>\n",
       "      <td>520</td>\n",
       "      <td>1,020</td>\n",
       "    </tr>\n",
       "    <tr>\n",
       "      <th>1</th>\n",
       "      <td>39</td>\n",
       "      <td>Delhi</td>\n",
       "      <td>Working professional</td>\n",
       "      <td>No</td>\n",
       "      <td>Female</td>\n",
       "      <td>Post graduation</td>\n",
       "      <td>DEL</td>\n",
       "      <td>iOs</td>\n",
       "      <td>Delhi</td>\n",
       "      <td>Northern</td>\n",
       "      <td>...</td>\n",
       "      <td>0</td>\n",
       "      <td>0</td>\n",
       "      <td>5,000</td>\n",
       "      <td>2,000</td>\n",
       "      <td>8,160</td>\n",
       "      <td>0</td>\n",
       "      <td>15,160</td>\n",
       "      <td>11,000</td>\n",
       "      <td>4,160</td>\n",
       "      <td>7,000</td>\n",
       "    </tr>\n",
       "    <tr>\n",
       "      <th>2</th>\n",
       "      <td>22</td>\n",
       "      <td>Mumbai</td>\n",
       "      <td>Working professional</td>\n",
       "      <td>No</td>\n",
       "      <td>Male</td>\n",
       "      <td>Graduation</td>\n",
       "      <td>BOM</td>\n",
       "      <td>Android</td>\n",
       "      <td>Maharashtra</td>\n",
       "      <td>Western</td>\n",
       "      <td>...</td>\n",
       "      <td>1,000</td>\n",
       "      <td>1,000</td>\n",
       "      <td>7,000</td>\n",
       "      <td>2,000</td>\n",
       "      <td>2,500</td>\n",
       "      <td>2,000</td>\n",
       "      <td>13,500</td>\n",
       "      <td>8,500</td>\n",
       "      <td>5,000</td>\n",
       "      <td>9,000</td>\n",
       "    </tr>\n",
       "    <tr>\n",
       "      <th>3</th>\n",
       "      <td>26</td>\n",
       "      <td>Bengaluru</td>\n",
       "      <td>Sabbatical</td>\n",
       "      <td>Yes</td>\n",
       "      <td>Female</td>\n",
       "      <td>Graduation</td>\n",
       "      <td>BLR</td>\n",
       "      <td>Android</td>\n",
       "      <td>Karnataka</td>\n",
       "      <td>Southern</td>\n",
       "      <td>...</td>\n",
       "      <td>2,000</td>\n",
       "      <td>2,000</td>\n",
       "      <td>1,680</td>\n",
       "      <td>1,680</td>\n",
       "      <td>3,000</td>\n",
       "      <td>4,000</td>\n",
       "      <td>10,360</td>\n",
       "      <td>5,180</td>\n",
       "      <td>5,180</td>\n",
       "      <td>3,360</td>\n",
       "    </tr>\n",
       "    <tr>\n",
       "      <th>4</th>\n",
       "      <td>50</td>\n",
       "      <td>Delhi</td>\n",
       "      <td>Working professional</td>\n",
       "      <td>No</td>\n",
       "      <td>Male</td>\n",
       "      <td>Graduation</td>\n",
       "      <td>DEL</td>\n",
       "      <td>iOs</td>\n",
       "      <td>Delhi</td>\n",
       "      <td>Northern</td>\n",
       "      <td>...</td>\n",
       "      <td>0</td>\n",
       "      <td>0</td>\n",
       "      <td>2,400</td>\n",
       "      <td>1,300</td>\n",
       "      <td>3,000</td>\n",
       "      <td>0</td>\n",
       "      <td>6,700</td>\n",
       "      <td>3,900</td>\n",
       "      <td>2,800</td>\n",
       "      <td>3,700</td>\n",
       "    </tr>\n",
       "  </tbody>\n",
       "</table>\n",
       "<p>5 rows × 26 columns</p>\n",
       "</div>"
      ],
      "text/plain": [
       "   Age       City        Current Status  \\\n",
       "0   24      Delhi  Working professional   \n",
       "1   39      Delhi  Working professional   \n",
       "2   22     Mumbai  Working professional   \n",
       "3   26  Bengaluru            Sabbatical   \n",
       "4   50      Delhi  Working professional   \n",
       "\n",
       "  Do you own multiple profiles on Instagram?  Gender Highest Education  \\\n",
       "0                                         No  Female        Graduation   \n",
       "1                                         No  Female   Post graduation   \n",
       "2                                         No    Male        Graduation   \n",
       "3                                        Yes  Female        Graduation   \n",
       "4                                         No    Male        Graduation   \n",
       "\n",
       "  Location (City Airport Code) Phone OS        State      Zone  ...  \\\n",
       "0                          DEL      iOs        Delhi  Northern  ...   \n",
       "1                          DEL      iOs        Delhi  Northern  ...   \n",
       "2                          BOM  Android  Maharashtra   Western  ...   \n",
       "3                          BLR  Android    Karnataka  Southern  ...   \n",
       "4                          DEL      iOs        Delhi  Northern  ...   \n",
       "\n",
       "  Time Spent on Instagram in last week (in minutes)  \\\n",
       "0                                               770   \n",
       "1                                                 0   \n",
       "2                                             1,000   \n",
       "3                                             2,000   \n",
       "4                                                 0   \n",
       "\n",
       "  Time Spent on Instagram in last weekend (in minutes)  \\\n",
       "0                                                400     \n",
       "1                                                  0     \n",
       "2                                              1,000     \n",
       "3                                              2,000     \n",
       "4                                                  0     \n",
       "\n",
       "   Time Spent on WhatsApp in last week (in minutes)  \\\n",
       "0                                               900   \n",
       "1                                             5,000   \n",
       "2                                             7,000   \n",
       "3                                             1,680   \n",
       "4                                             2,400   \n",
       "\n",
       "   Time Spent on WhatsApp in last weekend (in minutes) Total Facebook Usage  \\\n",
       "0                                                120                      0   \n",
       "1                                              2,000                  8,160   \n",
       "2                                              2,000                  2,500   \n",
       "3                                              1,680                  3,000   \n",
       "4                                              1,300                  3,000   \n",
       "\n",
       "  Total Instagram Usage Total Social Media Usage Total Week Usage  \\\n",
       "0                 1,170                    2,190            1,670   \n",
       "1                     0                   15,160           11,000   \n",
       "2                 2,000                   13,500            8,500   \n",
       "3                 4,000                   10,360            5,180   \n",
       "4                     0                    6,700            3,900   \n",
       "\n",
       "  Total Weekend Usage Total WhatsApp Usage  \n",
       "0                 520                1,020  \n",
       "1               4,160                7,000  \n",
       "2               5,000                9,000  \n",
       "3               5,180                3,360  \n",
       "4               2,800                3,700  \n",
       "\n",
       "[5 rows x 26 columns]"
      ]
     },
     "execution_count": 79,
     "metadata": {},
     "output_type": "execute_result"
    }
   ],
   "source": [
    "data.head()\n",
    "##checking whether the dataset is loaded properly"
   ]
  },
  {
   "cell_type": "code",
   "execution_count": 80,
   "id": "e3d433a7",
   "metadata": {},
   "outputs": [
    {
     "data": {
      "text/plain": [
       "(1628, 26)"
      ]
     },
     "execution_count": 80,
     "metadata": {},
     "output_type": "execute_result"
    }
   ],
   "source": [
    "data.shape\n",
    "##checking the shape of the dataset"
   ]
  },
  {
   "cell_type": "markdown",
   "id": "504dc62d",
   "metadata": {},
   "source": [
    "The given dataset consist of 1628 rows and 26 columns"
   ]
  },
  {
   "cell_type": "code",
   "execution_count": 81,
   "id": "d1f8cb84",
   "metadata": {},
   "outputs": [
    {
     "name": "stdout",
     "output_type": "stream",
     "text": [
      "<class 'pandas.core.frame.DataFrame'>\n",
      "RangeIndex: 1628 entries, 0 to 1627\n",
      "Data columns (total 26 columns):\n",
      " #   Column                                                                                                                Non-Null Count  Dtype  \n",
      "---  ------                                                                                                                --------------  -----  \n",
      " 0   Age                                                                                                                   1628 non-null   int64  \n",
      " 1   City                                                                                                                  1628 non-null   object \n",
      " 2   Current Status                                                                                                        1628 non-null   object \n",
      " 3   Do you own multiple profiles on Instagram?                                                                            1628 non-null   object \n",
      " 4   Gender                                                                                                                1628 non-null   object \n",
      " 5   Highest Education                                                                                                     1628 non-null   object \n",
      " 6   Location (City Airport Code)                                                                                          1628 non-null   object \n",
      " 7   Phone OS                                                                                                              1628 non-null   object \n",
      " 8   State                                                                                                                 1628 non-null   object \n",
      " 9   Zone                                                                                                                  1628 non-null   object \n",
      " 10  How many followers do you have on Instagram? (In case of multiple accounts, please mention the one with the maximum)  1628 non-null   object \n",
      " 11  How many posts do you have on Instagram?                                                                              1628 non-null   object \n",
      " 12  Latitude                                                                                                              1628 non-null   float64\n",
      " 13  Longitude                                                                                                             1628 non-null   float64\n",
      " 14  Time Spent on Facebook in last week (in minutes)                                                                      1628 non-null   object \n",
      " 15  Time Spent on Facebook in last weekend (in minutes)                                                                   1628 non-null   object \n",
      " 16  Time Spent on Instagram in last week (in minutes)                                                                     1628 non-null   object \n",
      " 17  Time Spent on Instagram in last weekend (in minutes)                                                                  1628 non-null   object \n",
      " 18  Time Spent on WhatsApp in last week (in minutes)                                                                      1628 non-null   object \n",
      " 19  Time Spent on WhatsApp in last weekend (in minutes)                                                                   1628 non-null   object \n",
      " 20  Total Facebook Usage                                                                                                  1628 non-null   object \n",
      " 21  Total Instagram Usage                                                                                                 1628 non-null   object \n",
      " 22  Total Social Media Usage                                                                                              1628 non-null   object \n",
      " 23  Total Week Usage                                                                                                      1628 non-null   object \n",
      " 24  Total Weekend Usage                                                                                                   1628 non-null   object \n",
      " 25  Total WhatsApp Usage                                                                                                  1628 non-null   object \n",
      "dtypes: float64(2), int64(1), object(23)\n",
      "memory usage: 330.8+ KB\n"
     ]
    }
   ],
   "source": [
    "data.info()\n",
    "##to get the basic information of the data"
   ]
  },
  {
   "cell_type": "code",
   "execution_count": 82,
   "id": "abc78456",
   "metadata": {},
   "outputs": [
    {
     "data": {
      "text/html": [
       "<div>\n",
       "<style scoped>\n",
       "    .dataframe tbody tr th:only-of-type {\n",
       "        vertical-align: middle;\n",
       "    }\n",
       "\n",
       "    .dataframe tbody tr th {\n",
       "        vertical-align: top;\n",
       "    }\n",
       "\n",
       "    .dataframe thead th {\n",
       "        text-align: right;\n",
       "    }\n",
       "</style>\n",
       "<table border=\"1\" class=\"dataframe\">\n",
       "  <thead>\n",
       "    <tr style=\"text-align: right;\">\n",
       "      <th></th>\n",
       "      <th>Age</th>\n",
       "      <th>Latitude</th>\n",
       "      <th>Longitude</th>\n",
       "    </tr>\n",
       "  </thead>\n",
       "  <tbody>\n",
       "    <tr>\n",
       "      <th>count</th>\n",
       "      <td>1628.000000</td>\n",
       "      <td>1628.000000</td>\n",
       "      <td>1628.000000</td>\n",
       "    </tr>\n",
       "    <tr>\n",
       "      <th>mean</th>\n",
       "      <td>26.858108</td>\n",
       "      <td>22.759734</td>\n",
       "      <td>77.894131</td>\n",
       "    </tr>\n",
       "    <tr>\n",
       "      <th>std</th>\n",
       "      <td>8.851719</td>\n",
       "      <td>5.072753</td>\n",
       "      <td>5.261110</td>\n",
       "    </tr>\n",
       "    <tr>\n",
       "      <th>min</th>\n",
       "      <td>13.000000</td>\n",
       "      <td>8.485498</td>\n",
       "      <td>69.669281</td>\n",
       "    </tr>\n",
       "    <tr>\n",
       "      <th>25%</th>\n",
       "      <td>22.000000</td>\n",
       "      <td>18.987807</td>\n",
       "      <td>72.836447</td>\n",
       "    </tr>\n",
       "    <tr>\n",
       "      <th>50%</th>\n",
       "      <td>24.000000</td>\n",
       "      <td>22.562627</td>\n",
       "      <td>77.231495</td>\n",
       "    </tr>\n",
       "    <tr>\n",
       "      <th>75%</th>\n",
       "      <td>27.000000</td>\n",
       "      <td>28.651952</td>\n",
       "      <td>78.456355</td>\n",
       "    </tr>\n",
       "    <tr>\n",
       "      <th>max</th>\n",
       "      <td>74.000000</td>\n",
       "      <td>32.735686</td>\n",
       "      <td>94.912000</td>\n",
       "    </tr>\n",
       "  </tbody>\n",
       "</table>\n",
       "</div>"
      ],
      "text/plain": [
       "               Age     Latitude    Longitude\n",
       "count  1628.000000  1628.000000  1628.000000\n",
       "mean     26.858108    22.759734    77.894131\n",
       "std       8.851719     5.072753     5.261110\n",
       "min      13.000000     8.485498    69.669281\n",
       "25%      22.000000    18.987807    72.836447\n",
       "50%      24.000000    22.562627    77.231495\n",
       "75%      27.000000    28.651952    78.456355\n",
       "max      74.000000    32.735686    94.912000"
      ]
     },
     "execution_count": 82,
     "metadata": {},
     "output_type": "execute_result"
    }
   ],
   "source": [
    "data.describe()\n",
    "##Checking the statistics of columns"
   ]
  },
  {
   "cell_type": "code",
   "execution_count": 83,
   "id": "93597224",
   "metadata": {},
   "outputs": [
    {
     "data": {
      "text/plain": [
       "Age                                                                                                                     0\n",
       "City                                                                                                                    0\n",
       "Current Status                                                                                                          0\n",
       "Do you own multiple profiles on Instagram?                                                                              0\n",
       "Gender                                                                                                                  0\n",
       "Highest Education                                                                                                       0\n",
       "Location (City Airport Code)                                                                                            0\n",
       "Phone OS                                                                                                                0\n",
       "State                                                                                                                   0\n",
       "Zone                                                                                                                    0\n",
       "How many followers do you have on Instagram? (In case of multiple accounts, please mention the one with the maximum)    0\n",
       "How many posts do you have on Instagram?                                                                                0\n",
       "Latitude                                                                                                                0\n",
       "Longitude                                                                                                               0\n",
       "Time Spent on Facebook in last week (in minutes)                                                                        0\n",
       "Time Spent on Facebook in last weekend (in minutes)                                                                     0\n",
       "Time Spent on Instagram in last week (in minutes)                                                                       0\n",
       "Time Spent on Instagram in last weekend (in minutes)                                                                    0\n",
       "Time Spent on WhatsApp in last week (in minutes)                                                                        0\n",
       "Time Spent on WhatsApp in last weekend (in minutes)                                                                     0\n",
       "Total Facebook Usage                                                                                                    0\n",
       "Total Instagram Usage                                                                                                   0\n",
       "Total Social Media Usage                                                                                                0\n",
       "Total Week Usage                                                                                                        0\n",
       "Total Weekend Usage                                                                                                     0\n",
       "Total WhatsApp Usage                                                                                                    0\n",
       "dtype: int64"
      ]
     },
     "execution_count": 83,
     "metadata": {},
     "output_type": "execute_result"
    }
   ],
   "source": [
    "data.isna().sum()\n",
    "##Checking for any null values present in the dataset "
   ]
  },
  {
   "cell_type": "markdown",
   "id": "0275d29a",
   "metadata": {},
   "source": [
    "No null values are present in the dataset"
   ]
  },
  {
   "cell_type": "markdown",
   "id": "b61055bf",
   "metadata": {},
   "source": [
    "# 2.Pre-processing"
   ]
  },
  {
   "cell_type": "markdown",
   "id": "5402d8d4",
   "metadata": {},
   "source": [
    "**As there is no null values present in the dataset, missing values handling is not performed**"
   ]
  },
  {
   "cell_type": "markdown",
   "id": "038681f0",
   "metadata": {},
   "source": [
    "# Feature Reduction"
   ]
  },
  {
   "cell_type": "code",
   "execution_count": 84,
   "id": "01c7601a",
   "metadata": {},
   "outputs": [
    {
     "data": {
      "text/plain": [
       "(1628, 26)"
      ]
     },
     "execution_count": 84,
     "metadata": {},
     "output_type": "execute_result"
    }
   ],
   "source": [
    "data.shape"
   ]
  },
  {
   "cell_type": "code",
   "execution_count": 85,
   "id": "f9fb429a",
   "metadata": {},
   "outputs": [
    {
     "data": {
      "text/plain": [
       "Index(['Age', 'City', 'Current Status',\n",
       "       'Do you own multiple profiles on Instagram?', 'Gender',\n",
       "       'Highest Education', 'Location (City Airport Code)', 'Phone OS',\n",
       "       'State', 'Zone',\n",
       "       'How many followers do you have on Instagram? (In case of multiple accounts, please mention the one with the maximum)',\n",
       "       'How many posts do you have on Instagram?', 'Latitude', 'Longitude',\n",
       "       'Time Spent on Facebook in last week (in minutes)',\n",
       "       'Time Spent on Facebook in last weekend (in minutes)',\n",
       "       'Time Spent on Instagram in last week (in minutes)',\n",
       "       'Time Spent on Instagram in last weekend (in minutes)',\n",
       "       'Time Spent on WhatsApp in last week (in minutes)',\n",
       "       'Time Spent on WhatsApp in last weekend (in minutes)',\n",
       "       'Total Facebook Usage', 'Total Instagram Usage',\n",
       "       'Total Social Media Usage', 'Total Week Usage', 'Total Weekend Usage',\n",
       "       'Total WhatsApp Usage'],\n",
       "      dtype='object')"
      ]
     },
     "execution_count": 85,
     "metadata": {},
     "output_type": "execute_result"
    }
   ],
   "source": [
    "data.columns"
   ]
  },
  {
   "cell_type": "code",
   "execution_count": 86,
   "id": "27b4b297",
   "metadata": {},
   "outputs": [],
   "source": [
    "##removing unwanted column\n",
    "data.drop(['Latitude','Longitude','Time Spent on Facebook in last week (in minutes)',\n",
    "       'Time Spent on Facebook in last weekend (in minutes)',\n",
    "       'Time Spent on Instagram in last week (in minutes)',\n",
    "       'Time Spent on Instagram in last weekend (in minutes)',\n",
    "       'Time Spent on WhatsApp in last week (in minutes)',\n",
    "       'Time Spent on WhatsApp in last weekend (in minutes)',\n",
    "       'How many followers do you have on Instagram? (In case of multiple accounts, please mention the one with the maximum)',\n",
    "       'How many posts do you have on Instagram?',\n",
    "       'Do you own multiple profiles on Instagram?'],axis=1,inplace=True)"
   ]
  },
  {
   "cell_type": "code",
   "execution_count": 87,
   "id": "091ddf32",
   "metadata": {},
   "outputs": [
    {
     "data": {
      "text/plain": [
       "(1628, 15)"
      ]
     },
     "execution_count": 87,
     "metadata": {},
     "output_type": "execute_result"
    }
   ],
   "source": [
    "data.shape"
   ]
  },
  {
   "cell_type": "markdown",
   "id": "155ca769",
   "metadata": {},
   "source": [
    "**changing the datatype of columns from object to float**"
   ]
  },
  {
   "cell_type": "code",
   "execution_count": 88,
   "id": "ed671388",
   "metadata": {},
   "outputs": [],
   "source": [
    "##changing the datatype\n",
    "data['Total Week Usage'] = pd.to_numeric(data['Total Week Usage'],errors='coerce')\n",
    "data['Total Weekend Usage'] = pd.to_numeric(data['Total Weekend Usage'],errors='coerce')\n",
    "data['Total Social Media Usage']=pd.to_numeric(data['Total Social Media Usage'],errors='coerce')"
   ]
  },
  {
   "cell_type": "code",
   "execution_count": 89,
   "id": "ad0b1e5c",
   "metadata": {},
   "outputs": [],
   "source": [
    "##for handling NaN , infinity values\n",
    "data['Total Week Usage'] = np.nan_to_num(data['Total Week Usage'])\n",
    "data['Total Weekend Usage']=np.nan_to_num(data['Total Weekend Usage'])\n",
    "data['Total Social Media Usage']=np.nan_to_num(data['Total Social Media Usage'])"
   ]
  },
  {
   "cell_type": "markdown",
   "id": "30f33474",
   "metadata": {},
   "source": [
    "## Encoding"
   ]
  },
  {
   "cell_type": "code",
   "execution_count": 90,
   "id": "678a3a21",
   "metadata": {},
   "outputs": [
    {
     "data": {
      "text/html": [
       "<div>\n",
       "<style scoped>\n",
       "    .dataframe tbody tr th:only-of-type {\n",
       "        vertical-align: middle;\n",
       "    }\n",
       "\n",
       "    .dataframe tbody tr th {\n",
       "        vertical-align: top;\n",
       "    }\n",
       "\n",
       "    .dataframe thead th {\n",
       "        text-align: right;\n",
       "    }\n",
       "</style>\n",
       "<table border=\"1\" class=\"dataframe\">\n",
       "  <thead>\n",
       "    <tr style=\"text-align: right;\">\n",
       "      <th></th>\n",
       "      <th>City</th>\n",
       "      <th>Current Status</th>\n",
       "      <th>Gender</th>\n",
       "      <th>Highest Education</th>\n",
       "      <th>Location (City Airport Code)</th>\n",
       "      <th>Phone OS</th>\n",
       "      <th>State</th>\n",
       "      <th>Zone</th>\n",
       "      <th>Total Facebook Usage</th>\n",
       "      <th>Total Instagram Usage</th>\n",
       "      <th>Total WhatsApp Usage</th>\n",
       "    </tr>\n",
       "  </thead>\n",
       "  <tbody>\n",
       "    <tr>\n",
       "      <th>count</th>\n",
       "      <td>1628</td>\n",
       "      <td>1628</td>\n",
       "      <td>1628</td>\n",
       "      <td>1628</td>\n",
       "      <td>1628</td>\n",
       "      <td>1628</td>\n",
       "      <td>1628</td>\n",
       "      <td>1628</td>\n",
       "      <td>1628</td>\n",
       "      <td>1628</td>\n",
       "      <td>1628</td>\n",
       "    </tr>\n",
       "    <tr>\n",
       "      <th>unique</th>\n",
       "      <td>53</td>\n",
       "      <td>4</td>\n",
       "      <td>3</td>\n",
       "      <td>3</td>\n",
       "      <td>60</td>\n",
       "      <td>3</td>\n",
       "      <td>26</td>\n",
       "      <td>6</td>\n",
       "      <td>474</td>\n",
       "      <td>766</td>\n",
       "      <td>866</td>\n",
       "    </tr>\n",
       "    <tr>\n",
       "      <th>top</th>\n",
       "      <td>Delhi</td>\n",
       "      <td>Working professional</td>\n",
       "      <td>Female</td>\n",
       "      <td>Graduation</td>\n",
       "      <td>DEL</td>\n",
       "      <td>Android</td>\n",
       "      <td>Delhi</td>\n",
       "      <td>Western</td>\n",
       "      <td>0</td>\n",
       "      <td>0</td>\n",
       "      <td>420</td>\n",
       "    </tr>\n",
       "    <tr>\n",
       "      <th>freq</th>\n",
       "      <td>372</td>\n",
       "      <td>796</td>\n",
       "      <td>813</td>\n",
       "      <td>950</td>\n",
       "      <td>372</td>\n",
       "      <td>1115</td>\n",
       "      <td>372</td>\n",
       "      <td>543</td>\n",
       "      <td>367</td>\n",
       "      <td>186</td>\n",
       "      <td>20</td>\n",
       "    </tr>\n",
       "  </tbody>\n",
       "</table>\n",
       "</div>"
      ],
      "text/plain": [
       "         City        Current Status  Gender Highest Education  \\\n",
       "count    1628                  1628    1628              1628   \n",
       "unique     53                     4       3                 3   \n",
       "top     Delhi  Working professional  Female        Graduation   \n",
       "freq      372                   796     813               950   \n",
       "\n",
       "       Location (City Airport Code) Phone OS  State     Zone  \\\n",
       "count                          1628     1628   1628     1628   \n",
       "unique                           60        3     26        6   \n",
       "top                             DEL  Android  Delhi  Western   \n",
       "freq                            372     1115    372      543   \n",
       "\n",
       "       Total Facebook Usage Total Instagram Usage Total WhatsApp Usage  \n",
       "count                  1628                  1628                 1628  \n",
       "unique                  474                   766                  866  \n",
       "top                       0                     0                  420  \n",
       "freq                    367                   186                   20  "
      ]
     },
     "execution_count": 90,
     "metadata": {},
     "output_type": "execute_result"
    }
   ],
   "source": [
    "data.describe(include=['object'])"
   ]
  },
  {
   "cell_type": "code",
   "execution_count": 91,
   "id": "2478d316",
   "metadata": {},
   "outputs": [],
   "source": [
    "##label encoding\n",
    "from sklearn import preprocessing\n",
    "encoder=preprocessing.LabelEncoder()\n",
    "data['Gender']=encoder.fit_transform(data['Gender'])"
   ]
  },
  {
   "cell_type": "code",
   "execution_count": 92,
   "id": "ab6fa5ff",
   "metadata": {},
   "outputs": [
    {
     "data": {
      "text/html": [
       "<div>\n",
       "<style scoped>\n",
       "    .dataframe tbody tr th:only-of-type {\n",
       "        vertical-align: middle;\n",
       "    }\n",
       "\n",
       "    .dataframe tbody tr th {\n",
       "        vertical-align: top;\n",
       "    }\n",
       "\n",
       "    .dataframe thead th {\n",
       "        text-align: right;\n",
       "    }\n",
       "</style>\n",
       "<table border=\"1\" class=\"dataframe\">\n",
       "  <thead>\n",
       "    <tr style=\"text-align: right;\">\n",
       "      <th></th>\n",
       "      <th>Age</th>\n",
       "      <th>City</th>\n",
       "      <th>Current Status</th>\n",
       "      <th>Gender</th>\n",
       "      <th>Highest Education</th>\n",
       "      <th>Location (City Airport Code)</th>\n",
       "      <th>Phone OS</th>\n",
       "      <th>State</th>\n",
       "      <th>Zone</th>\n",
       "      <th>Total Facebook Usage</th>\n",
       "      <th>Total Instagram Usage</th>\n",
       "      <th>Total Social Media Usage</th>\n",
       "      <th>Total Week Usage</th>\n",
       "      <th>Total Weekend Usage</th>\n",
       "      <th>Total WhatsApp Usage</th>\n",
       "    </tr>\n",
       "  </thead>\n",
       "  <tbody>\n",
       "    <tr>\n",
       "      <th>0</th>\n",
       "      <td>24</td>\n",
       "      <td>Delhi</td>\n",
       "      <td>Working professional</td>\n",
       "      <td>0</td>\n",
       "      <td>Graduation</td>\n",
       "      <td>DEL</td>\n",
       "      <td>iOs</td>\n",
       "      <td>Delhi</td>\n",
       "      <td>Northern</td>\n",
       "      <td>0</td>\n",
       "      <td>1,170</td>\n",
       "      <td>0.0</td>\n",
       "      <td>0.0</td>\n",
       "      <td>520.0</td>\n",
       "      <td>1,020</td>\n",
       "    </tr>\n",
       "    <tr>\n",
       "      <th>1</th>\n",
       "      <td>39</td>\n",
       "      <td>Delhi</td>\n",
       "      <td>Working professional</td>\n",
       "      <td>0</td>\n",
       "      <td>Post graduation</td>\n",
       "      <td>DEL</td>\n",
       "      <td>iOs</td>\n",
       "      <td>Delhi</td>\n",
       "      <td>Northern</td>\n",
       "      <td>8,160</td>\n",
       "      <td>0</td>\n",
       "      <td>0.0</td>\n",
       "      <td>0.0</td>\n",
       "      <td>0.0</td>\n",
       "      <td>7,000</td>\n",
       "    </tr>\n",
       "    <tr>\n",
       "      <th>2</th>\n",
       "      <td>22</td>\n",
       "      <td>Mumbai</td>\n",
       "      <td>Working professional</td>\n",
       "      <td>1</td>\n",
       "      <td>Graduation</td>\n",
       "      <td>BOM</td>\n",
       "      <td>Android</td>\n",
       "      <td>Maharashtra</td>\n",
       "      <td>Western</td>\n",
       "      <td>2,500</td>\n",
       "      <td>2,000</td>\n",
       "      <td>0.0</td>\n",
       "      <td>0.0</td>\n",
       "      <td>0.0</td>\n",
       "      <td>9,000</td>\n",
       "    </tr>\n",
       "    <tr>\n",
       "      <th>3</th>\n",
       "      <td>26</td>\n",
       "      <td>Bengaluru</td>\n",
       "      <td>Sabbatical</td>\n",
       "      <td>0</td>\n",
       "      <td>Graduation</td>\n",
       "      <td>BLR</td>\n",
       "      <td>Android</td>\n",
       "      <td>Karnataka</td>\n",
       "      <td>Southern</td>\n",
       "      <td>3,000</td>\n",
       "      <td>4,000</td>\n",
       "      <td>0.0</td>\n",
       "      <td>0.0</td>\n",
       "      <td>0.0</td>\n",
       "      <td>3,360</td>\n",
       "    </tr>\n",
       "    <tr>\n",
       "      <th>4</th>\n",
       "      <td>50</td>\n",
       "      <td>Delhi</td>\n",
       "      <td>Working professional</td>\n",
       "      <td>1</td>\n",
       "      <td>Graduation</td>\n",
       "      <td>DEL</td>\n",
       "      <td>iOs</td>\n",
       "      <td>Delhi</td>\n",
       "      <td>Northern</td>\n",
       "      <td>3,000</td>\n",
       "      <td>0</td>\n",
       "      <td>0.0</td>\n",
       "      <td>0.0</td>\n",
       "      <td>0.0</td>\n",
       "      <td>3,700</td>\n",
       "    </tr>\n",
       "  </tbody>\n",
       "</table>\n",
       "</div>"
      ],
      "text/plain": [
       "   Age       City        Current Status  Gender Highest Education  \\\n",
       "0   24      Delhi  Working professional       0        Graduation   \n",
       "1   39      Delhi  Working professional       0   Post graduation   \n",
       "2   22     Mumbai  Working professional       1        Graduation   \n",
       "3   26  Bengaluru            Sabbatical       0        Graduation   \n",
       "4   50      Delhi  Working professional       1        Graduation   \n",
       "\n",
       "  Location (City Airport Code) Phone OS        State      Zone  \\\n",
       "0                          DEL      iOs        Delhi  Northern   \n",
       "1                          DEL      iOs        Delhi  Northern   \n",
       "2                          BOM  Android  Maharashtra   Western   \n",
       "3                          BLR  Android    Karnataka  Southern   \n",
       "4                          DEL      iOs        Delhi  Northern   \n",
       "\n",
       "  Total Facebook Usage Total Instagram Usage  Total Social Media Usage  \\\n",
       "0                    0                 1,170                       0.0   \n",
       "1                8,160                     0                       0.0   \n",
       "2                2,500                 2,000                       0.0   \n",
       "3                3,000                 4,000                       0.0   \n",
       "4                3,000                     0                       0.0   \n",
       "\n",
       "   Total Week Usage  Total Weekend Usage Total WhatsApp Usage  \n",
       "0               0.0                520.0                1,020  \n",
       "1               0.0                  0.0                7,000  \n",
       "2               0.0                  0.0                9,000  \n",
       "3               0.0                  0.0                3,360  \n",
       "4               0.0                  0.0                3,700  "
      ]
     },
     "execution_count": 92,
     "metadata": {},
     "output_type": "execute_result"
    }
   ],
   "source": [
    "data.head()"
   ]
  },
  {
   "cell_type": "markdown",
   "id": "c6304840",
   "metadata": {},
   "source": [
    "# Outlier detection and handling"
   ]
  },
  {
   "cell_type": "code",
   "execution_count": 93,
   "id": "c22ed308",
   "metadata": {},
   "outputs": [
    {
     "data": {
      "image/png": "[encoded data removed]",
      "text/plain": [
       "<Figure size 432x288 with 1 Axes>"
      ]
     },
     "metadata": {
      "needs_background": "light"
     },
     "output_type": "display_data"
    }
   ],
   "source": [
    "plt.boxplot(data['Age'])\n",
    "plt.title('box plot of Age')\n",
    "plt.show() "
   ]
  },
  {
   "cell_type": "code",
   "execution_count": 94,
   "id": "f4329144",
   "metadata": {},
   "outputs": [
    {
     "name": "stdout",
     "output_type": "stream",
     "text": [
      "22.0\n",
      "24.0\n",
      "27.0\n"
     ]
    }
   ],
   "source": [
    "Q1=np.percentile(data['Age'],25, interpolation='midpoint')\n",
    "Q2=np.percentile(data['Age'],50, interpolation='midpoint')\n",
    "Q3=np.percentile(data['Age'],75, interpolation='midpoint')\n",
    "print(Q1)\n",
    "print(Q2)\n",
    "print(Q3)"
   ]
  },
  {
   "cell_type": "code",
   "execution_count": 95,
   "id": "41180a02",
   "metadata": {},
   "outputs": [],
   "source": [
    "IQR=Q3-Q1"
   ]
  },
  {
   "cell_type": "code",
   "execution_count": 96,
   "id": "9454521b",
   "metadata": {},
   "outputs": [
    {
     "name": "stdout",
     "output_type": "stream",
     "text": [
      "14.5\n",
      "34.5\n"
     ]
    }
   ],
   "source": [
    "low_lim=Q1-1.5*IQR\n",
    "up_lim=Q3+1.5*IQR\n",
    "print(low_lim)\n",
    "print(up_lim)"
   ]
  },
  {
   "cell_type": "code",
   "execution_count": 97,
   "id": "3b6ed2ef",
   "metadata": {},
   "outputs": [
    {
     "name": "stdout",
     "output_type": "stream",
     "text": [
      "[39, 50, 52, 45, 45, 35, 50, 45, 38, 47, 45, 35, 51, 55, 37, 57, 52, 35, 38, 35, 36, 55, 55, 48, 65, 50, 47, 43, 58, 51, 59, 56, 45, 45, 55, 14, 36, 47, 35, 65, 57, 37, 55, 48, 62, 35, 72, 50, 35, 47, 52, 40, 13, 52, 51, 47, 38, 43, 47, 47, 53, 43, 48, 49, 43, 49, 56, 53, 43, 44, 48, 35, 35, 35, 47, 51, 49, 37, 54, 57, 40, 45, 56, 41, 46, 45, 40, 37, 36, 50, 57, 51, 53, 59, 36, 40, 46, 52, 35, 47, 38, 13, 36, 58, 48, 38, 48, 45, 55, 60, 36, 47, 38, 36, 37, 49, 40, 40, 54, 52, 52, 49, 36, 61, 55, 42, 49, 45, 36, 36, 40, 49, 52, 58, 50, 40, 42, 57, 52, 52, 41, 36, 52, 52, 35, 57, 74, 42, 52, 50, 54, 37, 48, 45, 35, 45, 50, 45, 42, 40, 48, 47, 38, 50, 51, 45, 47, 36, 47, 35, 44, 36, 48, 45, 42, 40, 51, 46, 48, 36, 51, 45, 43, 44, 47, 48, 67, 38, 35, 38, 47, 45, 39, 40, 48, 47, 43, 54, 56, 56, 35, 37, 45, 35, 37, 36, 47, 48, 63, 56, 49, 40, 38, 35, 36, 42, 51, 41, 63, 40, 43, 57, 55, 50, 52, 35]\n"
     ]
    }
   ],
   "source": [
    "outlier=[]\n",
    "for i in data['Age']:\n",
    "    if(i>up_lim) or (i<low_lim):\n",
    "        outlier.append(i)\n",
    "print(outlier)  "
   ]
  },
  {
   "cell_type": "code",
   "execution_count": 98,
   "id": "b486e7bc",
   "metadata": {},
   "outputs": [],
   "source": [
    "ind1=data['Age']>up_lim\n",
    "a=data.loc[ind1].index\n",
    "data.drop(a,inplace=True)\n",
    "ind2=data['Age']<low_lim\n",
    "b=data.loc[ind2].index\n",
    "data.drop(b,inplace=True)"
   ]
  },
  {
   "cell_type": "code",
   "execution_count": 99,
   "id": "419eaf5d",
   "metadata": {},
   "outputs": [
    {
     "data": {
      "image/png": "[encoded data removed]",
      "text/plain": [
       "<Figure size 432x288 with 1 Axes>"
      ]
     },
     "metadata": {
      "needs_background": "light"
     },
     "output_type": "display_data"
    }
   ],
   "source": [
    "plt.boxplot(data['Age'])\n",
    "plt.title('plot of age')\n",
    "plt.show()"
   ]
  },
  {
   "cell_type": "markdown",
   "id": "3ec4ac98",
   "metadata": {},
   "source": [
    "## Feature Engineering"
   ]
  },
  {
   "cell_type": "code",
   "execution_count": 100,
   "id": "925f7728",
   "metadata": {},
   "outputs": [],
   "source": [
    "y = data['Total Social Media Usage']"
   ]
  },
  {
   "cell_type": "code",
   "execution_count": 101,
   "id": "8e436180",
   "metadata": {},
   "outputs": [],
   "source": [
    "x=data.drop(['Total Social Media Usage','Age', 'City', 'Current Status', 'Gender', 'Highest Education',\n",
    "       'Location (City Airport Code)', 'Phone OS', 'State', 'Zone','Total Facebook Usage', 'Total Instagram Usage','Total WhatsApp Usage'],axis=1)"
   ]
  },
  {
   "cell_type": "code",
   "execution_count": 102,
   "id": "49acaa3e",
   "metadata": {},
   "outputs": [
    {
     "data": {
      "text/plain": [
       "Index(['Total Week Usage', 'Total Weekend Usage'], dtype='object')"
      ]
     },
     "execution_count": 102,
     "metadata": {},
     "output_type": "execute_result"
    }
   ],
   "source": [
    "x.columns"
   ]
  },
  {
   "cell_type": "markdown",
   "id": "12956a0f",
   "metadata": {},
   "source": [
    "# 3. Exploratory Data Analysis"
   ]
  },
  {
   "cell_type": "code",
   "execution_count": 103,
   "id": "14c0b48c",
   "metadata": {},
   "outputs": [
    {
     "data": {
      "text/plain": [
       "<AxesSubplot:xlabel='Count', ylabel='Highest Education'>"
      ]
     },
     "execution_count": 103,
     "metadata": {},
     "output_type": "execute_result"
    },
    {
     "data": {
      "image/png": "[encoded data removed]",
      "text/plain": [
       "<Figure size 432x288 with 1 Axes>"
      ]
     },
     "metadata": {
      "needs_background": "light"
     },
     "output_type": "display_data"
    }
   ],
   "source": [
    "sns.histplot(y=\"Highest Education\",data=data,color=\"red\")"
   ]
  },
  {
   "cell_type": "code",
   "execution_count": 104,
   "id": "7925183f",
   "metadata": {},
   "outputs": [
    {
     "data": {
      "text/plain": [
       "<AxesSubplot:xlabel='Gender', ylabel='Age'>"
      ]
     },
     "execution_count": 104,
     "metadata": {},
     "output_type": "execute_result"
    },
    {
     "data": {
      "image/png": "[encoded data removed]",
      "text/plain": [
       "<Figure size 432x288 with 1 Axes>"
      ]
     },
     "metadata": {
      "needs_background": "light"
     },
     "output_type": "display_data"
    }
   ],
   "source": [
    "sns.boxplot(x='Gender',y='Age',data=data)"
   ]
  },
  {
   "cell_type": "code",
   "execution_count": 105,
   "id": "09a2d853",
   "metadata": {},
   "outputs": [
    {
     "data": {
      "image/png": "[encoded data removed]",
      "text/plain": [
       "<Figure size 360x432 with 1 Axes>"
      ]
     },
     "metadata": {
      "needs_background": "light"
     },
     "output_type": "display_data"
    }
   ],
   "source": [
    "plt.figure(figsize=(5,6))\n",
    "plt.hist(data['Current Status'],color='blue',rwidth=0.9)\n",
    "plt.title('usage of social media',fontsize=16)\n",
    "plt.xlabel('Current Status')\n",
    "plt.ylabel('count')\n",
    "plt.xticks()\n",
    "plt.yticks()\n",
    "plt.show()"
   ]
  },
  {
   "cell_type": "code",
   "execution_count": 106,
   "id": "47f73a50",
   "metadata": {},
   "outputs": [
    {
     "data": {
      "image/png": "[encoded data removed]",
      "text/plain": [
       "<Figure size 432x288 with 1 Axes>"
      ]
     },
     "metadata": {
      "needs_background": "light"
     },
     "output_type": "display_data"
    }
   ],
   "source": [
    "plt.hist([data['Total Weekend Usage'], data['Total Week Usage']],label=['Total Weekend Usage','Total Week Usage'])\n",
    "plt.legend(loc='upper right')\n",
    "plt.show()"
   ]
  },
  {
   "cell_type": "code",
   "execution_count": 107,
   "id": "d20d77dd",
   "metadata": {},
   "outputs": [
    {
     "data": {
      "text/plain": [
       "(array([0.5, 1.5, 2.5, 3.5, 4.5]),\n",
       " [Text(0.5, 0, 'Age'),\n",
       "  Text(1.5, 0, 'Gender'),\n",
       "  Text(2.5, 0, 'Total Social Media Usage'),\n",
       "  Text(3.5, 0, 'Total Week Usage'),\n",
       "  Text(4.5, 0, 'Total Weekend Usage')])"
      ]
     },
     "execution_count": 107,
     "metadata": {},
     "output_type": "execute_result"
    },
    {
     "data": {
      "image/png": "[encoded data removed]",
      "text/plain": [
       "<Figure size 432x288 with 2 Axes>"
      ]
     },
     "metadata": {
      "needs_background": "light"
     },
     "output_type": "display_data"
    }
   ],
   "source": [
    "sns.heatmap(data.corr(),annot=True)\n",
    "plt.xticks(rotation=45)"
   ]
  },
  {
   "cell_type": "markdown",
   "id": "c3a0a464",
   "metadata": {},
   "source": [
    "- from the graphs it is clear that individuals whose education level is graduation uses social media the most\n",
    "- Student and Working professionals took the lead in using social media\n",
    "- people are found more often in online during weekends other than weekdays\n"
   ]
  },
  {
   "cell_type": "markdown",
   "id": "223df6e3",
   "metadata": {},
   "source": [
    "# 4.Modelling"
   ]
  },
  {
   "cell_type": "markdown",
   "id": "41250d6b",
   "metadata": {},
   "source": [
    "Here the target variable which is total social media usage is predicted using regression models."
   ]
  },
  {
   "cell_type": "code",
   "execution_count": 108,
   "id": "b55013fa",
   "metadata": {},
   "outputs": [],
   "source": [
    "##splitting the dataset into features and target\n",
    "y=data['Total Social Media Usage']"
   ]
  },
  {
   "cell_type": "code",
   "execution_count": 109,
   "id": "789d703c",
   "metadata": {},
   "outputs": [],
   "source": [
    "x=data.drop(['Total Social Media Usage','Age', 'City', 'Current Status', 'Gender', 'Highest Education',\n",
    "       'Location (City Airport Code)', 'Phone OS', 'State', 'Zone','Total Facebook Usage', 'Total Instagram Usage','Total WhatsApp Usage'],axis=1)"
   ]
  },
  {
   "cell_type": "code",
   "execution_count": 110,
   "id": "913bd2f8",
   "metadata": {},
   "outputs": [],
   "source": [
    "##splitting the dataset into train and test set\n",
    "\n",
    "from sklearn.model_selection import train_test_split\n",
    "x_train,x_test,y_train,y_test=train_test_split(x,y,random_state=42,test_size=0.25)"
   ]
  },
  {
   "cell_type": "code",
   "execution_count": 111,
   "id": "73490f49",
   "metadata": {},
   "outputs": [
    {
     "data": {
      "text/plain": [
       "(1051, 2)"
      ]
     },
     "execution_count": 111,
     "metadata": {},
     "output_type": "execute_result"
    }
   ],
   "source": [
    "##checking the no of datapoints in the training and testing set\n",
    "x_train.shape"
   ]
  },
  {
   "cell_type": "code",
   "execution_count": 112,
   "id": "7de36035",
   "metadata": {},
   "outputs": [
    {
     "data": {
      "text/plain": [
       "(351, 2)"
      ]
     },
     "execution_count": 112,
     "metadata": {},
     "output_type": "execute_result"
    }
   ],
   "source": [
    "x_test.shape"
   ]
  },
  {
   "cell_type": "markdown",
   "id": "c7e86638",
   "metadata": {},
   "source": [
    "## Linear Regression"
   ]
  },
  {
   "cell_type": "code",
   "execution_count": 113,
   "id": "bbe67934",
   "metadata": {},
   "outputs": [],
   "source": [
    "from math import sqrt\n",
    "from sklearn import linear_model\n",
    "lr=linear_model.LinearRegression()\n",
    "model=lr.fit(x_train,y_train)\n",
    "#making prediction using the model\n",
    "predictions=model.predict(x_test)"
   ]
  },
  {
   "cell_type": "code",
   "execution_count": 114,
   "id": "520c5bad",
   "metadata": {},
   "outputs": [
    {
     "name": "stdout",
     "output_type": "stream",
     "text": [
      "RMSE is 244.55944778445757\n"
     ]
    }
   ],
   "source": [
    "from sklearn.metrics import mean_squared_error\n",
    "from sklearn.metrics import r2_score\n",
    "print('RMSE is',sqrt(mean_squared_error(y_test,predictions)))"
   ]
  },
  {
   "cell_type": "code",
   "execution_count": 115,
   "id": "e52684c1",
   "metadata": {},
   "outputs": [
    {
     "name": "stdout",
     "output_type": "stream",
     "text": [
      "R2 value: 0.12549698480354665\n"
     ]
    }
   ],
   "source": [
    "rsquare= r2_score(y_test,predictions)\n",
    "print('R2 value:',r2_score(y_test,predictions))"
   ]
  },
  {
   "cell_type": "markdown",
   "id": "aaed9983",
   "metadata": {},
   "source": [
    "## SVM Regressor"
   ]
  },
  {
   "cell_type": "code",
   "execution_count": 116,
   "id": "d63d9d80",
   "metadata": {},
   "outputs": [
    {
     "name": "stdout",
     "output_type": "stream",
     "text": [
      "RMSE is 248.68086822294924\n"
     ]
    }
   ],
   "source": [
    "from sklearn.svm import SVR\n",
    "svm_regressor=SVR(kernel=\"rbf\")\n",
    "svm_regressor.fit(x_train,y_train)\n",
    "y_pred=svm_regressor.predict(x_test)\n",
    "RMSE=sqrt(mean_squared_error(y_test,y_pred))\n",
    "print('RMSE is',RMSE)"
   ]
  },
  {
   "cell_type": "code",
   "execution_count": 117,
   "id": "37ff5971",
   "metadata": {},
   "outputs": [
    {
     "name": "stdout",
     "output_type": "stream",
     "text": [
      "R2 value: 0.09577362430421854\n"
     ]
    }
   ],
   "source": [
    "rsquare= (r2_score(y_test,y_pred))\n",
    "print('R2 value:',rsquare)"
   ]
  },
  {
   "cell_type": "markdown",
   "id": "28c51c59",
   "metadata": {},
   "source": [
    "## Decision Tree"
   ]
  },
  {
   "cell_type": "code",
   "execution_count": 118,
   "id": "b07c74b3",
   "metadata": {},
   "outputs": [
    {
     "name": "stdout",
     "output_type": "stream",
     "text": [
      "RMSE is 120.15798005517641\n"
     ]
    }
   ],
   "source": [
    "from sklearn.tree import DecisionTreeRegressor\n",
    "regressor=DecisionTreeRegressor(random_state = 0)\n",
    "regressor.fit(x_train,y_train)\n",
    "y_pred=regressor.predict(x_test)\n",
    "RMSE=sqrt(mean_squared_error(y_test,y_pred))\n",
    "print('RMSE is',RMSE)"
   ]
  },
  {
   "cell_type": "code",
   "execution_count": 119,
   "id": "d90bc833",
   "metadata": {},
   "outputs": [
    {
     "name": "stdout",
     "output_type": "stream",
     "text": [
      "R2 value: 0.7888954184111727\n"
     ]
    }
   ],
   "source": [
    "rsquare= r2_score(y_test,y_pred)\n",
    "print('R2 value:',r2_score(y_test,y_pred))"
   ]
  },
  {
   "cell_type": "markdown",
   "id": "2aae61d5",
   "metadata": {},
   "source": [
    "## Random Forest"
   ]
  },
  {
   "cell_type": "code",
   "execution_count": 120,
   "id": "870f28df",
   "metadata": {},
   "outputs": [
    {
     "name": "stdout",
     "output_type": "stream",
     "text": [
      "RMSE is 107.75041330292692\n"
     ]
    }
   ],
   "source": [
    "from sklearn.ensemble import RandomForestRegressor\n",
    "regressor = RandomForestRegressor(n_estimators = 10, random_state = 0)\n",
    "regressor.fit(x_train,y_train)\n",
    "y_pred=regressor.predict(x_test)\n",
    "RMSE=sqrt(mean_squared_error(y_test,y_pred))\n",
    "print('RMSE is',RMSE)"
   ]
  },
  {
   "cell_type": "code",
   "execution_count": 121,
   "id": "4b3a430c",
   "metadata": {},
   "outputs": [
    {
     "name": "stdout",
     "output_type": "stream",
     "text": [
      "R2 value: 0.8302419763688094\n"
     ]
    }
   ],
   "source": [
    "rsquare= r2_score(y_test,y_pred)\n",
    "print('R2 value:',r2_score(y_test,y_pred))"
   ]
  },
  {
   "cell_type": "markdown",
   "id": "e3b234b7",
   "metadata": {},
   "source": [
    "## KNN"
   ]
  },
  {
   "cell_type": "code",
   "execution_count": 136,
   "id": "31f768ec",
   "metadata": {},
   "outputs": [
    {
     "name": "stdout",
     "output_type": "stream",
     "text": [
      "MSE is: 106.65973308127421\n"
     ]
    }
   ],
   "source": [
    "from sklearn import neighbors\n",
    "from sklearn.metrics import mean_squared_error\n",
    "from math import sqrt\n",
    "from sklearn.neighbors import KNeighborsRegressor\n",
    "\n",
    "\n",
    "knn_model=neighbors.KNeighborsRegressor(n_neighbors=10, metric='minkowski')\n",
    "knn_model.fit(x_train,y_train)\n",
    "prediction=knn_model.predict(x_test)\n",
    "MSE=sqrt(mean_squared_error(y_test,pred))\n",
    "print('MSE is:',MSE)"
   ]
  },
  {
   "cell_type": "code",
   "execution_count": 123,
   "id": "17ee11a2",
   "metadata": {},
   "outputs": [
    {
     "name": "stdout",
     "output_type": "stream",
     "text": [
      "R2 value: 0.8341848474385684\n"
     ]
    }
   ],
   "source": [
    "rsquare= r2_score(y_test,pred)\n",
    "print('R2 value:',r2_score(y_test,pred))"
   ]
  },
  {
   "cell_type": "markdown",
   "id": "cc4f4828",
   "metadata": {},
   "source": [
    "**KNN model has high R2 value and low RMSE value. So KNN is the most suitable model  for prediction**"
   ]
  },
  {
   "cell_type": "markdown",
   "id": "eb2e72d0",
   "metadata": {},
   "source": [
    "# 5. Model Fine Tuning"
   ]
  },
  {
   "cell_type": "code",
   "execution_count": 137,
   "id": "b4539cea",
   "metadata": {},
   "outputs": [
    {
     "data": {
      "text/plain": [
       "KNeighborsRegressor(n_neighbors=10)"
      ]
     },
     "execution_count": 137,
     "metadata": {},
     "output_type": "execute_result"
    }
   ],
   "source": [
    "knn_model.fit(x_train,y_train)"
   ]
  },
  {
   "cell_type": "code",
   "execution_count": 143,
   "id": "e790e6d0",
   "metadata": {},
   "outputs": [
    {
     "data": {
      "text/plain": [
       "KNeighborsRegressor(n_neighbors=10)"
      ]
     },
     "execution_count": 143,
     "metadata": {},
     "output_type": "execute_result"
    }
   ],
   "source": [
    "model=KNeighborsRegressor(algorithm='auto', leaf_size=30, metric='minkowski',metric_params=None, n_jobs=None, n_neighbors=10, p=2, weights='uniform')  \n",
    "model.fit(x_train,y_train)"
   ]
  },
  {
   "cell_type": "code",
   "execution_count": 144,
   "id": "8843fce9",
   "metadata": {},
   "outputs": [
    {
     "name": "stdout",
     "output_type": "stream",
     "text": [
      "MSE is: 106.65973308127421\n",
      "R2 value: 0.8336612605108933\n"
     ]
    }
   ],
   "source": [
    "y_pred=model.predict(x_test)\n",
    "MSE=sqrt(mean_squared_error(y_test,prediction))\n",
    "print('MSE is:',MSE)\n",
    "rsquare= r2_score(y_test,pred)\n",
    "print('R2 value:',r2_score(y_test,prediction))"
   ]
  },
  {
   "cell_type": "code",
   "execution_count": 153,
   "id": "50d58f6f",
   "metadata": {},
   "outputs": [
    {
     "data": {
      "text/plain": [
       "GradientBoostingRegressor()"
      ]
     },
     "execution_count": 153,
     "metadata": {},
     "output_type": "execute_result"
    }
   ],
   "source": [
    "#gradient boosting\n",
    "from sklearn.ensemble import GradientBoostingRegressor\n",
    "gboost=GradientBoostingRegressor()\n",
    "gboost.fit(x_train,y_train)"
   ]
  },
  {
   "cell_type": "code",
   "execution_count": 155,
   "id": "4457240b",
   "metadata": {},
   "outputs": [
    {
     "name": "stdout",
     "output_type": "stream",
     "text": [
      "MSE is: 106.65973308127421\n",
      "R2 value: 0.8336612605108933\n"
     ]
    }
   ],
   "source": [
    "y_pred=gboost.predict(x_test)\n",
    "MSE=sqrt(mean_squared_error(y_test,prediction))\n",
    "print('MSE is:',MSE)\n",
    "rsquare= r2_score(y_test,prediction)\n",
    "print('R2 value:',r2_score(y_test,prediction))"
   ]
  },
  {
   "cell_type": "code",
   "execution_count": 164,
   "id": "f5f9b7cf",
   "metadata": {},
   "outputs": [
    {
     "data": {
      "text/html": [
       "<div>\n",
       "<style scoped>\n",
       "    .dataframe tbody tr th:only-of-type {\n",
       "        vertical-align: middle;\n",
       "    }\n",
       "\n",
       "    .dataframe tbody tr th {\n",
       "        vertical-align: top;\n",
       "    }\n",
       "\n",
       "    .dataframe thead th {\n",
       "        text-align: right;\n",
       "    }\n",
       "</style>\n",
       "<table border=\"1\" class=\"dataframe\">\n",
       "  <thead>\n",
       "    <tr style=\"text-align: right;\">\n",
       "      <th></th>\n",
       "      <th>Predicted Data</th>\n",
       "      <th>Test Data</th>\n",
       "    </tr>\n",
       "  </thead>\n",
       "  <tbody>\n",
       "    <tr>\n",
       "      <th>1293</th>\n",
       "      <td>0.0</td>\n",
       "      <td>0.0</td>\n",
       "    </tr>\n",
       "    <tr>\n",
       "      <th>1140</th>\n",
       "      <td>0.0</td>\n",
       "      <td>0.0</td>\n",
       "    </tr>\n",
       "    <tr>\n",
       "      <th>67</th>\n",
       "      <td>0.0</td>\n",
       "      <td>0.0</td>\n",
       "    </tr>\n",
       "    <tr>\n",
       "      <th>1470</th>\n",
       "      <td>682.6</td>\n",
       "      <td>647.0</td>\n",
       "    </tr>\n",
       "    <tr>\n",
       "      <th>864</th>\n",
       "      <td>0.0</td>\n",
       "      <td>0.0</td>\n",
       "    </tr>\n",
       "    <tr>\n",
       "      <th>...</th>\n",
       "      <td>...</td>\n",
       "      <td>...</td>\n",
       "    </tr>\n",
       "    <tr>\n",
       "      <th>258</th>\n",
       "      <td>0.0</td>\n",
       "      <td>0.0</td>\n",
       "    </tr>\n",
       "    <tr>\n",
       "      <th>519</th>\n",
       "      <td>0.0</td>\n",
       "      <td>0.0</td>\n",
       "    </tr>\n",
       "    <tr>\n",
       "      <th>1593</th>\n",
       "      <td>0.0</td>\n",
       "      <td>0.0</td>\n",
       "    </tr>\n",
       "    <tr>\n",
       "      <th>471</th>\n",
       "      <td>0.0</td>\n",
       "      <td>0.0</td>\n",
       "    </tr>\n",
       "    <tr>\n",
       "      <th>1575</th>\n",
       "      <td>138.8</td>\n",
       "      <td>160.0</td>\n",
       "    </tr>\n",
       "  </tbody>\n",
       "</table>\n",
       "<p>351 rows × 2 columns</p>\n",
       "</div>"
      ],
      "text/plain": [
       "      Predicted Data  Test Data\n",
       "1293             0.0        0.0\n",
       "1140             0.0        0.0\n",
       "67               0.0        0.0\n",
       "1470           682.6      647.0\n",
       "864              0.0        0.0\n",
       "...              ...        ...\n",
       "258              0.0        0.0\n",
       "519              0.0        0.0\n",
       "1593             0.0        0.0\n",
       "471              0.0        0.0\n",
       "1575           138.8      160.0\n",
       "\n",
       "[351 rows x 2 columns]"
      ]
     },
     "execution_count": 164,
     "metadata": {},
     "output_type": "execute_result"
    }
   ],
   "source": [
    "test= pd.DataFrame({'Predicted Data': pred, 'Test Data' : y_test})\n",
    "test"
   ]
  },
  {
   "cell_type": "code",
   "execution_count": null,
   "id": "776e93c5",
   "metadata": {},
   "outputs": [],
   "source": []
  }
 ],
 "metadata": {
  "kernelspec": {
   "display_name": "Python 3",
   "language": "python",
   "name": "python3"
  },
  "language_info": {
   "codemirror_mode": {
    "name": "ipython",
    "version": 3
   },
   "file_extension": ".py",
   "mimetype": "text/x-python",
   "name": "python",
   "nbconvert_exporter": "python",
   "pygments_lexer": "ipython3",
   "version": "3.8.8"
  }
 },
 "nbformat": 4,
 "nbformat_minor": 5
}
