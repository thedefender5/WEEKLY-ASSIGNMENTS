{
 "cells": [
  {
   "cell_type": "markdown",
   "id": "686bec52",
   "metadata": {},
   "source": [
    "# CASE STUDY 10"
   ]
  },
  {
   "cell_type": "markdown",
   "id": "bbd1ff10",
   "metadata": {},
   "source": [
    "# Importing the libraries needed\n"
   ]
  },
  {
   "cell_type": "code",
   "execution_count": 1,
   "id": "845ce734",
   "metadata": {},
   "outputs": [],
   "source": [
    "import pandas as pd\n",
    "import numpy as np\n",
    "import matplotlib.pyplot as plt\n",
    "import seaborn as sns\n",
    "import warnings \n",
    "warnings.filterwarnings('ignore')"
   ]
  },
  {
   "cell_type": "markdown",
   "id": "c0fa5e47",
   "metadata": {},
   "source": [
    "# 1.Reading the dataset to the python environment\n"
   ]
  },
  {
   "cell_type": "code",
   "execution_count": 2,
   "id": "0d84c7fb",
   "metadata": {},
   "outputs": [
    {
     "data": {
      "text/html": [
       "<div>\n",
       "<style scoped>\n",
       "    .dataframe tbody tr th:only-of-type {\n",
       "        vertical-align: middle;\n",
       "    }\n",
       "\n",
       "    .dataframe tbody tr th {\n",
       "        vertical-align: top;\n",
       "    }\n",
       "\n",
       "    .dataframe thead th {\n",
       "        text-align: right;\n",
       "    }\n",
       "</style>\n",
       "<table border=\"1\" class=\"dataframe\">\n",
       "  <thead>\n",
       "    <tr style=\"text-align: right;\">\n",
       "      <th></th>\n",
       "      <th>class</th>\n",
       "      <th>cap-shape</th>\n",
       "      <th>cap-surface</th>\n",
       "      <th>cap-color</th>\n",
       "      <th>bruises</th>\n",
       "      <th>odor</th>\n",
       "      <th>gill-attachment</th>\n",
       "      <th>gill-spacing</th>\n",
       "      <th>gill-size</th>\n",
       "      <th>gill-color</th>\n",
       "      <th>...</th>\n",
       "      <th>stalk-surface-below-ring</th>\n",
       "      <th>stalk-color-above-ring</th>\n",
       "      <th>stalk-color-below-ring</th>\n",
       "      <th>veil-type</th>\n",
       "      <th>veil-color</th>\n",
       "      <th>ring-number</th>\n",
       "      <th>ring-type</th>\n",
       "      <th>spore-print-color</th>\n",
       "      <th>population</th>\n",
       "      <th>habitat</th>\n",
       "    </tr>\n",
       "  </thead>\n",
       "  <tbody>\n",
       "    <tr>\n",
       "      <th>0</th>\n",
       "      <td>p</td>\n",
       "      <td>x</td>\n",
       "      <td>s</td>\n",
       "      <td>n</td>\n",
       "      <td>t</td>\n",
       "      <td>p</td>\n",
       "      <td>f</td>\n",
       "      <td>c</td>\n",
       "      <td>n</td>\n",
       "      <td>k</td>\n",
       "      <td>...</td>\n",
       "      <td>s</td>\n",
       "      <td>w</td>\n",
       "      <td>w</td>\n",
       "      <td>p</td>\n",
       "      <td>w</td>\n",
       "      <td>o</td>\n",
       "      <td>p</td>\n",
       "      <td>k</td>\n",
       "      <td>s</td>\n",
       "      <td>u</td>\n",
       "    </tr>\n",
       "    <tr>\n",
       "      <th>1</th>\n",
       "      <td>e</td>\n",
       "      <td>x</td>\n",
       "      <td>s</td>\n",
       "      <td>y</td>\n",
       "      <td>t</td>\n",
       "      <td>a</td>\n",
       "      <td>f</td>\n",
       "      <td>c</td>\n",
       "      <td>b</td>\n",
       "      <td>k</td>\n",
       "      <td>...</td>\n",
       "      <td>s</td>\n",
       "      <td>w</td>\n",
       "      <td>w</td>\n",
       "      <td>p</td>\n",
       "      <td>w</td>\n",
       "      <td>o</td>\n",
       "      <td>p</td>\n",
       "      <td>n</td>\n",
       "      <td>n</td>\n",
       "      <td>g</td>\n",
       "    </tr>\n",
       "    <tr>\n",
       "      <th>2</th>\n",
       "      <td>e</td>\n",
       "      <td>b</td>\n",
       "      <td>s</td>\n",
       "      <td>w</td>\n",
       "      <td>t</td>\n",
       "      <td>l</td>\n",
       "      <td>f</td>\n",
       "      <td>c</td>\n",
       "      <td>b</td>\n",
       "      <td>n</td>\n",
       "      <td>...</td>\n",
       "      <td>s</td>\n",
       "      <td>w</td>\n",
       "      <td>w</td>\n",
       "      <td>p</td>\n",
       "      <td>w</td>\n",
       "      <td>o</td>\n",
       "      <td>p</td>\n",
       "      <td>n</td>\n",
       "      <td>n</td>\n",
       "      <td>m</td>\n",
       "    </tr>\n",
       "    <tr>\n",
       "      <th>3</th>\n",
       "      <td>p</td>\n",
       "      <td>x</td>\n",
       "      <td>y</td>\n",
       "      <td>w</td>\n",
       "      <td>t</td>\n",
       "      <td>p</td>\n",
       "      <td>f</td>\n",
       "      <td>c</td>\n",
       "      <td>n</td>\n",
       "      <td>n</td>\n",
       "      <td>...</td>\n",
       "      <td>s</td>\n",
       "      <td>w</td>\n",
       "      <td>w</td>\n",
       "      <td>p</td>\n",
       "      <td>w</td>\n",
       "      <td>o</td>\n",
       "      <td>p</td>\n",
       "      <td>k</td>\n",
       "      <td>s</td>\n",
       "      <td>u</td>\n",
       "    </tr>\n",
       "    <tr>\n",
       "      <th>4</th>\n",
       "      <td>e</td>\n",
       "      <td>x</td>\n",
       "      <td>s</td>\n",
       "      <td>g</td>\n",
       "      <td>f</td>\n",
       "      <td>n</td>\n",
       "      <td>f</td>\n",
       "      <td>w</td>\n",
       "      <td>b</td>\n",
       "      <td>k</td>\n",
       "      <td>...</td>\n",
       "      <td>s</td>\n",
       "      <td>w</td>\n",
       "      <td>w</td>\n",
       "      <td>p</td>\n",
       "      <td>w</td>\n",
       "      <td>o</td>\n",
       "      <td>e</td>\n",
       "      <td>n</td>\n",
       "      <td>a</td>\n",
       "      <td>g</td>\n",
       "    </tr>\n",
       "  </tbody>\n",
       "</table>\n",
       "<p>5 rows × 23 columns</p>\n",
       "</div>"
      ],
      "text/plain": [
       "  class cap-shape cap-surface cap-color bruises odor gill-attachment  \\\n",
       "0     p         x           s         n       t    p               f   \n",
       "1     e         x           s         y       t    a               f   \n",
       "2     e         b           s         w       t    l               f   \n",
       "3     p         x           y         w       t    p               f   \n",
       "4     e         x           s         g       f    n               f   \n",
       "\n",
       "  gill-spacing gill-size gill-color  ... stalk-surface-below-ring  \\\n",
       "0            c         n          k  ...                        s   \n",
       "1            c         b          k  ...                        s   \n",
       "2            c         b          n  ...                        s   \n",
       "3            c         n          n  ...                        s   \n",
       "4            w         b          k  ...                        s   \n",
       "\n",
       "  stalk-color-above-ring stalk-color-below-ring veil-type veil-color  \\\n",
       "0                      w                      w         p          w   \n",
       "1                      w                      w         p          w   \n",
       "2                      w                      w         p          w   \n",
       "3                      w                      w         p          w   \n",
       "4                      w                      w         p          w   \n",
       "\n",
       "  ring-number ring-type spore-print-color population habitat  \n",
       "0           o         p                 k          s       u  \n",
       "1           o         p                 n          n       g  \n",
       "2           o         p                 n          n       m  \n",
       "3           o         p                 k          s       u  \n",
       "4           o         e                 n          a       g  \n",
       "\n",
       "[5 rows x 23 columns]"
      ]
     },
     "execution_count": 2,
     "metadata": {},
     "output_type": "execute_result"
    }
   ],
   "source": [
    "data= pd.read_csv('mushrooms.csv')\n",
    "data.head()\n"
   ]
  },
  {
   "cell_type": "code",
   "execution_count": 3,
   "id": "9b75eacb",
   "metadata": {},
   "outputs": [
    {
     "data": {
      "text/plain": [
       "(8124, 23)"
      ]
     },
     "execution_count": 3,
     "metadata": {},
     "output_type": "execute_result"
    }
   ],
   "source": [
    "data.shape"
   ]
  },
  {
   "cell_type": "code",
   "execution_count": 4,
   "id": "c84243bb",
   "metadata": {},
   "outputs": [
    {
     "name": "stdout",
     "output_type": "stream",
     "text": [
      "<class 'pandas.core.frame.DataFrame'>\n",
      "RangeIndex: 8124 entries, 0 to 8123\n",
      "Data columns (total 23 columns):\n",
      " #   Column                    Non-Null Count  Dtype \n",
      "---  ------                    --------------  ----- \n",
      " 0   class                     8124 non-null   object\n",
      " 1   cap-shape                 8124 non-null   object\n",
      " 2   cap-surface               8124 non-null   object\n",
      " 3   cap-color                 8124 non-null   object\n",
      " 4   bruises                   8124 non-null   object\n",
      " 5   odor                      8124 non-null   object\n",
      " 6   gill-attachment           8124 non-null   object\n",
      " 7   gill-spacing              8124 non-null   object\n",
      " 8   gill-size                 8124 non-null   object\n",
      " 9   gill-color                8124 non-null   object\n",
      " 10  stalk-shape               8124 non-null   object\n",
      " 11  stalk-root                8124 non-null   object\n",
      " 12  stalk-surface-above-ring  8124 non-null   object\n",
      " 13  stalk-surface-below-ring  8124 non-null   object\n",
      " 14  stalk-color-above-ring    8124 non-null   object\n",
      " 15  stalk-color-below-ring    8124 non-null   object\n",
      " 16  veil-type                 8124 non-null   object\n",
      " 17  veil-color                8124 non-null   object\n",
      " 18  ring-number               8124 non-null   object\n",
      " 19  ring-type                 8124 non-null   object\n",
      " 20  spore-print-color         8124 non-null   object\n",
      " 21  population                8124 non-null   object\n",
      " 22  habitat                   8124 non-null   object\n",
      "dtypes: object(23)\n",
      "memory usage: 1.4+ MB\n"
     ]
    }
   ],
   "source": [
    "data.info()"
   ]
  },
  {
   "cell_type": "code",
   "execution_count": 5,
   "id": "a3813b7f",
   "metadata": {},
   "outputs": [
    {
     "data": {
      "text/plain": [
       "class                       0\n",
       "cap-shape                   0\n",
       "cap-surface                 0\n",
       "cap-color                   0\n",
       "bruises                     0\n",
       "odor                        0\n",
       "gill-attachment             0\n",
       "gill-spacing                0\n",
       "gill-size                   0\n",
       "gill-color                  0\n",
       "stalk-shape                 0\n",
       "stalk-root                  0\n",
       "stalk-surface-above-ring    0\n",
       "stalk-surface-below-ring    0\n",
       "stalk-color-above-ring      0\n",
       "stalk-color-below-ring      0\n",
       "veil-type                   0\n",
       "veil-color                  0\n",
       "ring-number                 0\n",
       "ring-type                   0\n",
       "spore-print-color           0\n",
       "population                  0\n",
       "habitat                     0\n",
       "dtype: int64"
      ]
     },
     "execution_count": 5,
     "metadata": {},
     "output_type": "execute_result"
    }
   ],
   "source": [
    "data.isna().sum()"
   ]
  },
  {
   "cell_type": "code",
   "execution_count": 6,
   "id": "9624ef83",
   "metadata": {},
   "outputs": [
    {
     "data": {
      "text/plain": [
       "0"
      ]
     },
     "execution_count": 6,
     "metadata": {},
     "output_type": "execute_result"
    }
   ],
   "source": [
    "data.duplicated().sum()"
   ]
  },
  {
   "cell_type": "code",
   "execution_count": 7,
   "id": "797e1385",
   "metadata": {},
   "outputs": [
    {
     "name": "stdout",
     "output_type": "stream",
     "text": [
      "class\n",
      "e    4208\n",
      "p    3916\n",
      "Name: class, dtype: int64\n",
      "cap-shape\n",
      "x    3656\n",
      "f    3152\n",
      "k     828\n",
      "b     452\n",
      "s      32\n",
      "c       4\n",
      "Name: cap-shape, dtype: int64\n",
      "cap-surface\n",
      "y    3244\n",
      "s    2556\n",
      "f    2320\n",
      "g       4\n",
      "Name: cap-surface, dtype: int64\n",
      "cap-color\n",
      "n    2284\n",
      "g    1840\n",
      "e    1500\n",
      "y    1072\n",
      "w    1040\n",
      "b     168\n",
      "p     144\n",
      "c      44\n",
      "u      16\n",
      "r      16\n",
      "Name: cap-color, dtype: int64\n",
      "bruises\n",
      "f    4748\n",
      "t    3376\n",
      "Name: bruises, dtype: int64\n",
      "odor\n",
      "n    3528\n",
      "f    2160\n",
      "y     576\n",
      "s     576\n",
      "a     400\n",
      "l     400\n",
      "p     256\n",
      "c     192\n",
      "m      36\n",
      "Name: odor, dtype: int64\n",
      "gill-attachment\n",
      "f    7914\n",
      "a     210\n",
      "Name: gill-attachment, dtype: int64\n",
      "gill-spacing\n",
      "c    6812\n",
      "w    1312\n",
      "Name: gill-spacing, dtype: int64\n",
      "gill-size\n",
      "b    5612\n",
      "n    2512\n",
      "Name: gill-size, dtype: int64\n",
      "gill-color\n",
      "b    1728\n",
      "p    1492\n",
      "w    1202\n",
      "n    1048\n",
      "g     752\n",
      "h     732\n",
      "u     492\n",
      "k     408\n",
      "e      96\n",
      "y      86\n",
      "o      64\n",
      "r      24\n",
      "Name: gill-color, dtype: int64\n",
      "stalk-shape\n",
      "t    4608\n",
      "e    3516\n",
      "Name: stalk-shape, dtype: int64\n",
      "stalk-root\n",
      "b    3776\n",
      "?    2480\n",
      "e    1120\n",
      "c     556\n",
      "r     192\n",
      "Name: stalk-root, dtype: int64\n",
      "stalk-surface-above-ring\n",
      "s    5176\n",
      "k    2372\n",
      "f     552\n",
      "y      24\n",
      "Name: stalk-surface-above-ring, dtype: int64\n",
      "stalk-surface-below-ring\n",
      "s    4936\n",
      "k    2304\n",
      "f     600\n",
      "y     284\n",
      "Name: stalk-surface-below-ring, dtype: int64\n",
      "stalk-color-above-ring\n",
      "w    4464\n",
      "p    1872\n",
      "g     576\n",
      "n     448\n",
      "b     432\n",
      "o     192\n",
      "e      96\n",
      "c      36\n",
      "y       8\n",
      "Name: stalk-color-above-ring, dtype: int64\n",
      "stalk-color-below-ring\n",
      "w    4384\n",
      "p    1872\n",
      "g     576\n",
      "n     512\n",
      "b     432\n",
      "o     192\n",
      "e      96\n",
      "c      36\n",
      "y      24\n",
      "Name: stalk-color-below-ring, dtype: int64\n",
      "veil-type\n",
      "p    8124\n",
      "Name: veil-type, dtype: int64\n",
      "veil-color\n",
      "w    7924\n",
      "n      96\n",
      "o      96\n",
      "y       8\n",
      "Name: veil-color, dtype: int64\n",
      "ring-number\n",
      "o    7488\n",
      "t     600\n",
      "n      36\n",
      "Name: ring-number, dtype: int64\n",
      "ring-type\n",
      "p    3968\n",
      "e    2776\n",
      "l    1296\n",
      "f      48\n",
      "n      36\n",
      "Name: ring-type, dtype: int64\n",
      "spore-print-color\n",
      "w    2388\n",
      "n    1968\n",
      "k    1872\n",
      "h    1632\n",
      "r      72\n",
      "u      48\n",
      "o      48\n",
      "y      48\n",
      "b      48\n",
      "Name: spore-print-color, dtype: int64\n",
      "population\n",
      "v    4040\n",
      "y    1712\n",
      "s    1248\n",
      "n     400\n",
      "a     384\n",
      "c     340\n",
      "Name: population, dtype: int64\n",
      "habitat\n",
      "d    3148\n",
      "g    2148\n",
      "p    1144\n",
      "l     832\n",
      "u     368\n",
      "m     292\n",
      "w     192\n",
      "Name: habitat, dtype: int64\n"
     ]
    }
   ],
   "source": [
    "##checking the count of column features\n",
    "for i in data.columns:\n",
    "    print(i)\n",
    "    print(data[i].value_counts())"
   ]
  },
  {
   "cell_type": "markdown",
   "id": "58ed3cc3",
   "metadata": {},
   "source": [
    "# EDA\n"
   ]
  },
  {
   "cell_type": "code",
   "execution_count": 8,
   "id": "855e0778",
   "metadata": {},
   "outputs": [
    {
     "data": {
      "image/png": "[encoded data removed]",
      "text/plain": [
       "<Figure size 432x288 with 1 Axes>"
      ]
     },
     "metadata": {
      "needs_background": "light"
     },
     "output_type": "display_data"
    }
   ],
   "source": [
    "##plot of poisonous vs edible mushroom counts\n",
    "sns.countplot(data['class'])\n",
    "plt.title('poisonous vs edible mushrooms')\n",
    "plt.show()"
   ]
  },
  {
   "cell_type": "code",
   "execution_count": 9,
   "id": "8d965d09",
   "metadata": {},
   "outputs": [
    {
     "data": {
      "image/png": "[encoded data removed]",
      "text/plain": [
       "<Figure size 432x288 with 1 Axes>"
      ]
     },
     "metadata": {
      "needs_background": "light"
     },
     "output_type": "display_data"
    }
   ],
   "source": [
    "##plot of cap shape classification\n",
    "sns.countplot(data['cap-shape'])\n",
    "plt.title('cap shape classification')\n",
    "plt.show()"
   ]
  },
  {
   "cell_type": "code",
   "execution_count": 10,
   "id": "982117ca",
   "metadata": {},
   "outputs": [
    {
     "data": {
      "image/png": "[encoded data removed]",
      "text/plain": [
       "<Figure size 432x288 with 1 Axes>"
      ]
     },
     "metadata": {
      "needs_background": "light"
     },
     "output_type": "display_data"
    }
   ],
   "source": [
    "##plot of cap color classification\n",
    "sns.countplot(data['cap-color'])\n",
    "plt.title('cap color classification')\n",
    "plt.show()\n"
   ]
  },
  {
   "cell_type": "code",
   "execution_count": 11,
   "id": "378dbd1a",
   "metadata": {},
   "outputs": [
    {
     "name": "stdout",
     "output_type": "stream",
     "text": [
      "unique values in column class\n",
      "['p' 'e'] \n",
      "\n",
      "unique values in column cap-shape\n",
      "['x' 'b' 's' 'f' 'k' 'c'] \n",
      "\n",
      "unique values in column cap-surface\n",
      "['s' 'y' 'f' 'g'] \n",
      "\n",
      "unique values in column cap-color\n",
      "['n' 'y' 'w' 'g' 'e' 'p' 'b' 'u' 'c' 'r'] \n",
      "\n",
      "unique values in column bruises\n",
      "['t' 'f'] \n",
      "\n",
      "unique values in column odor\n",
      "['p' 'a' 'l' 'n' 'f' 'c' 'y' 's' 'm'] \n",
      "\n",
      "unique values in column gill-attachment\n",
      "['f' 'a'] \n",
      "\n",
      "unique values in column gill-spacing\n",
      "['c' 'w'] \n",
      "\n",
      "unique values in column gill-size\n",
      "['n' 'b'] \n",
      "\n",
      "unique values in column gill-color\n",
      "['k' 'n' 'g' 'p' 'w' 'h' 'u' 'e' 'b' 'r' 'y' 'o'] \n",
      "\n",
      "unique values in column stalk-shape\n",
      "['e' 't'] \n",
      "\n",
      "unique values in column stalk-root\n",
      "['e' 'c' 'b' 'r' '?'] \n",
      "\n",
      "unique values in column stalk-surface-above-ring\n",
      "['s' 'f' 'k' 'y'] \n",
      "\n",
      "unique values in column stalk-surface-below-ring\n",
      "['s' 'f' 'y' 'k'] \n",
      "\n",
      "unique values in column stalk-color-above-ring\n",
      "['w' 'g' 'p' 'n' 'b' 'e' 'o' 'c' 'y'] \n",
      "\n",
      "unique values in column stalk-color-below-ring\n",
      "['w' 'p' 'g' 'b' 'n' 'e' 'y' 'o' 'c'] \n",
      "\n",
      "unique values in column veil-type\n",
      "['p'] \n",
      "\n",
      "unique values in column veil-color\n",
      "['w' 'n' 'o' 'y'] \n",
      "\n",
      "unique values in column ring-number\n",
      "['o' 't' 'n'] \n",
      "\n",
      "unique values in column ring-type\n",
      "['p' 'e' 'l' 'f' 'n'] \n",
      "\n",
      "unique values in column spore-print-color\n",
      "['k' 'n' 'u' 'h' 'w' 'r' 'o' 'y' 'b'] \n",
      "\n",
      "unique values in column population\n",
      "['s' 'n' 'a' 'v' 'y' 'c'] \n",
      "\n",
      "unique values in column habitat\n",
      "['u' 'g' 'm' 'd' 'p' 'w' 'l'] \n",
      "\n"
     ]
    }
   ],
   "source": [
    "##finding the unique values in each column\n",
    "for i in data.columns:\n",
    "    print(\"unique values in column\",i)\n",
    "    print(data[i].unique(),\"\\n\")"
   ]
  },
  {
   "cell_type": "code",
   "execution_count": null,
   "id": "227cb880",
   "metadata": {},
   "outputs": [],
   "source": [
    "1.from the attribute information we could see that the stalk root feature has missing values represented by \"?\" and all the veil type features have only partial value represnted by \"p\"\n",
    "\n",
    "2.we could proceed further by dropping the viel type feature column and by giving mode values to the missing values shown by \"?\"."
   ]
  },
  {
   "cell_type": "code",
   "execution_count": 12,
   "id": "48d0d627",
   "metadata": {},
   "outputs": [],
   "source": [
    "##dropping the viel type feature\n",
    "data=data.drop([\"veil-type\"],axis=1)\n"
   ]
  },
  {
   "cell_type": "code",
   "execution_count": 13,
   "id": "1810eaf8",
   "metadata": {},
   "outputs": [],
   "source": [
    "##giving mode values to the missing values shown by ?\n",
    "mode=data['stalk-root'].mode()[0]\n",
    "\n",
    "data['stalk-root']=data['stalk-root'].replace(to_replace=\"?\",value=mode)"
   ]
  },
  {
   "cell_type": "markdown",
   "id": "aceeb257",
   "metadata": {},
   "source": [
    "# label encoding\n",
    "\n",
    "\n"
   ]
  },
  {
   "cell_type": "code",
   "execution_count": 14,
   "id": "b6a4e549",
   "metadata": {},
   "outputs": [],
   "source": [
    "from sklearn.preprocessing import LabelEncoder\n",
    "encoder=LabelEncoder()\n",
    "for i in data.columns:\n",
    "    data[i]=encoder.fit_transform(data[i])\n",
    "##splitting the dataset into features and target\n",
    "x=data.drop(['class'],axis=1)\n",
    "y=data['class']\n",
    "##splitting the dataset into train and test set"
   ]
  },
  {
   "cell_type": "code",
   "execution_count": 15,
   "id": "7831a596",
   "metadata": {},
   "outputs": [],
   "source": [
    "from sklearn.model_selection import train_test_split\n",
    "x_train,x_test,y_train,y_test=train_test_split(x,y,random_state=42,test_size=0.2)"
   ]
  },
  {
   "cell_type": "markdown",
   "id": "bb246471",
   "metadata": {},
   "source": [
    "# creating classification models\n"
   ]
  },
  {
   "cell_type": "markdown",
   "id": "3f656076",
   "metadata": {},
   "source": [
    "# Logistic Regression\n"
   ]
  },
  {
   "cell_type": "code",
   "execution_count": 16,
   "id": "79b0fef0",
   "metadata": {},
   "outputs": [],
   "source": [
    "##importing logistic regression model\n",
    "from sklearn.linear_model import LogisticRegression\n",
    "\n",
    "logit_model=LogisticRegression() ##creating an instance of the model\n",
    "logit_model.fit(x_train,y_train) ##fitting the instance to x train and y train to create the model\n",
    "y_pred=logit_model.predict(x_test) ##predicting the values and storing it\n"
   ]
  },
  {
   "cell_type": "code",
   "execution_count": 17,
   "id": "0edde782",
   "metadata": {},
   "outputs": [
    {
     "name": "stdout",
     "output_type": "stream",
     "text": [
      "Accuracy score is: 0.9538461538461539\n",
      "Precision score is: 0.9537039844974875\n",
      "Recall score is: 0.9538966909678926\n",
      "f1 score is: 0.9537912764754659\n"
     ]
    }
   ],
   "source": [
    "\n",
    "from sklearn.metrics import f1_score,accuracy_score,confusion_matrix,precision_score,recall_score\n",
    "print('Accuracy score is:',accuracy_score(y_test,y_pred))\n",
    "print('Precision score is:',precision_score(y_test,y_pred,average='macro'))\n",
    "print('Recall score is:',recall_score(y_test,y_pred,average='macro'))\n",
    "print('f1 score is:',f1_score(y_test,y_pred,average='macro'))"
   ]
  },
  {
   "cell_type": "code",
   "execution_count": 18,
   "id": "c3ee1a8b",
   "metadata": {},
   "outputs": [
    {
     "data": {
      "text/plain": [
       "array([[803,  40],\n",
       "       [ 35, 747]], dtype=int64)"
      ]
     },
     "execution_count": 18,
     "metadata": {},
     "output_type": "execute_result"
    }
   ],
   "source": [
    "\n",
    "confusion_matrix(y_test,y_pred)"
   ]
  },
  {
   "cell_type": "markdown",
   "id": "da826c29",
   "metadata": {},
   "source": [
    "# KNN Model\n"
   ]
  },
  {
   "cell_type": "code",
   "execution_count": 19,
   "id": "be7d4d5e",
   "metadata": {},
   "outputs": [],
   "source": [
    "##importing KNN model\n",
    "from sklearn.neighbors import KNeighborsClassifier\n",
    "\n",
    "##To find the optimum k value for which we have to create the model with varying k values\n",
    "\n",
    "aq_val=[] ##an empty list is made first\n",
    "neighbors=np.arange(3,15) ##taking values 3 to 15 to neighbor\n",
    "\n",
    "for k in neighbors: ##for creating knn model\n",
    "    classifier=KNeighborsClassifier(n_neighbors=k,metric='minkowski')\n",
    "    classifier.fit(x_train,y_train)\n",
    "    y_pred=classifier.predict(x_test)##predicting the output\n",
    "    aq=accuracy_score(y_test,y_pred) ##appending the accuracy values to empty list to find maximum accuracy\n",
    "    aq_val.append(aq)\n"
   ]
  },
  {
   "cell_type": "code",
   "execution_count": 20,
   "id": "0937f7b1",
   "metadata": {},
   "outputs": [
    {
     "data": {
      "text/plain": [
       "<function matplotlib.pyplot.show(close=None, block=None)>"
      ]
     },
     "execution_count": 20,
     "metadata": {},
     "output_type": "execute_result"
    },
    {
     "data": {
      "image/png": "[encoded data removed]",
      "text/plain": [
       "<Figure size 432x288 with 1 Axes>"
      ]
     },
     "metadata": {
      "needs_background": "light"
     },
     "output_type": "display_data"
    }
   ],
   "source": [
    "##checking for which k value we got the highest accuracy\n",
    "plt.plot(neighbors,aq_val,'o-')\n",
    "plt.xlabel('Kvalues')\n",
    "plt.ylabel('Accuracy ')\n",
    "plt.show"
   ]
  },
  {
   "cell_type": "code",
   "execution_count": 21,
   "id": "2a23632e",
   "metadata": {},
   "outputs": [],
   "source": [
    "classifier=KNeighborsClassifier(n_neighbors=5,metric='minkowski')\n",
    "classifier.fit(x_train,y_train)\n",
    "y_pred=classifier.predict(x_test)\n"
   ]
  },
  {
   "cell_type": "code",
   "execution_count": 22,
   "id": "18110a74",
   "metadata": {},
   "outputs": [
    {
     "name": "stdout",
     "output_type": "stream",
     "text": [
      "Accuracy score is: 0.9950769230769231\n",
      "Precision score is: 0.9949367088607595\n",
      "Recall score is: 0.9952550415183867\n",
      "f1 score is: 0.9950716805114534\n"
     ]
    }
   ],
   "source": [
    "\n",
    "print('Accuracy score is:',accuracy_score(y_test,y_pred))\n",
    "print('Precision score is:',precision_score(y_test,y_pred,average='macro'))\n",
    "print('Recall score is:',recall_score(y_test,y_pred,average='macro'))\n",
    "print('f1 score is:',f1_score(y_test,y_pred,average='macro'))"
   ]
  },
  {
   "cell_type": "code",
   "execution_count": 23,
   "id": "75ae2d3f",
   "metadata": {},
   "outputs": [
    {
     "data": {
      "text/plain": [
       "array([[835,   8],\n",
       "       [  0, 782]], dtype=int64)"
      ]
     },
     "execution_count": 23,
     "metadata": {},
     "output_type": "execute_result"
    }
   ],
   "source": [
    "confusion_matrix(y_test,y_pred)"
   ]
  },
  {
   "cell_type": "markdown",
   "id": "53d4eb9d",
   "metadata": {},
   "source": [
    "# Decision Tree\n"
   ]
  },
  {
   "cell_type": "code",
   "execution_count": 24,
   "id": "c666df5e",
   "metadata": {},
   "outputs": [],
   "source": [
    "##importing the decision tree model\n",
    "from sklearn.tree import DecisionTreeClassifier\n",
    "\n",
    "dmodel=DecisionTreeClassifier() ##creating an instance and storing it\n",
    "dmodel.fit(x_train,y_train)\n",
    "\n",
    "y_pred=dmodel.predict(x_test)\n"
   ]
  },
  {
   "cell_type": "code",
   "execution_count": 25,
   "id": "0536ab17",
   "metadata": {},
   "outputs": [
    {
     "name": "stdout",
     "output_type": "stream",
     "text": [
      "Accuracy score is: 1.0\n",
      "Precision score is: 1.0\n",
      "Recall score is: 1.0\n",
      "f1 score is: 1.0\n"
     ]
    }
   ],
   "source": [
    "\n",
    "print('Accuracy score is:',accuracy_score(y_test,y_pred))\n",
    "print('Precision score is:',precision_score(y_test,y_pred,average='macro'))\n",
    "print('Recall score is:',recall_score(y_test,y_pred,average='macro'))\n",
    "print('f1 score is:',f1_score(y_test,y_pred,average='macro'))"
   ]
  },
  {
   "cell_type": "code",
   "execution_count": 26,
   "id": "22599476",
   "metadata": {},
   "outputs": [
    {
     "data": {
      "text/plain": [
       "array([[843,   0],\n",
       "       [  0, 782]], dtype=int64)"
      ]
     },
     "execution_count": 26,
     "metadata": {},
     "output_type": "execute_result"
    }
   ],
   "source": [
    "\n",
    "confusion_matrix(y_test,y_pred)"
   ]
  },
  {
   "cell_type": "markdown",
   "id": "01a06ae3",
   "metadata": {},
   "source": [
    "# Random Forest\n"
   ]
  },
  {
   "cell_type": "code",
   "execution_count": 27,
   "id": "987f7ce1",
   "metadata": {},
   "outputs": [],
   "source": [
    "##importing the random forest model\n",
    "from sklearn.ensemble import RandomForestClassifier\n",
    "ramf=RandomForestClassifier()\n",
    "ramf.fit(x_train,y_train)\n",
    "y_pred=ramf.predict(x_test)\n"
   ]
  },
  {
   "cell_type": "code",
   "execution_count": 28,
   "id": "752613bc",
   "metadata": {},
   "outputs": [
    {
     "name": "stdout",
     "output_type": "stream",
     "text": [
      "Accuracy score is: 1.0\n",
      "Precision score is: 1.0\n",
      "Recall score is: 1.0\n",
      "f1 score is: 1.0\n"
     ]
    }
   ],
   "source": [
    "\n",
    "print('Accuracy score is:',accuracy_score(y_test,y_pred))\n",
    "print('Precision score is:',precision_score(y_test,y_pred,average='macro'))\n",
    "print('Recall score is:',recall_score(y_test,y_pred,average='macro'))\n",
    "print('f1 score is:',f1_score(y_test,y_pred,average='macro'))"
   ]
  },
  {
   "cell_type": "code",
   "execution_count": 29,
   "id": "f3d64fe2",
   "metadata": {},
   "outputs": [
    {
     "data": {
      "text/plain": [
       "array([[843,   0],\n",
       "       [  0, 782]], dtype=int64)"
      ]
     },
     "execution_count": 29,
     "metadata": {},
     "output_type": "execute_result"
    }
   ],
   "source": [
    "\n",
    "confusion_matrix(y_test,y_pred)"
   ]
  },
  {
   "cell_type": "markdown",
   "id": "5c3af00d",
   "metadata": {},
   "source": [
    "# Gaussian naive bayes\n"
   ]
  },
  {
   "cell_type": "code",
   "execution_count": 30,
   "id": "453a4ea3",
   "metadata": {},
   "outputs": [],
   "source": [
    "from sklearn.naive_bayes import GaussianNB\n",
    "gauss=GaussianNB()\n",
    "gauss.fit(x_train,y_train)\n",
    "y_pred=gauss.predict(x_test)\n"
   ]
  },
  {
   "cell_type": "code",
   "execution_count": 31,
   "id": "d28d23f2",
   "metadata": {},
   "outputs": [
    {
     "name": "stdout",
     "output_type": "stream",
     "text": [
      "Accuracy score is: 0.9027692307692308\n",
      "Precision score is: 0.9025693041985821\n",
      "Recall score is: 0.9027708251798321\n",
      "f1 score is: 0.9026577191386108\n"
     ]
    }
   ],
   "source": [
    "\n",
    "print('Accuracy score is:',accuracy_score(y_test,y_pred))\n",
    "print('Precision score is:',precision_score(y_test,y_pred,average='macro'))\n",
    "print('Recall score is:',recall_score(y_test,y_pred,average='macro'))\n",
    "print('f1 score is:',f1_score(y_test,y_pred,average='macro'))"
   ]
  },
  {
   "cell_type": "code",
   "execution_count": 32,
   "id": "18d0df19",
   "metadata": {},
   "outputs": [
    {
     "data": {
      "text/plain": [
       "array([[761,  82],\n",
       "       [ 76, 706]], dtype=int64)"
      ]
     },
     "execution_count": 32,
     "metadata": {},
     "output_type": "execute_result"
    }
   ],
   "source": [
    "\n",
    "confusion_matrix(y_test,y_pred)"
   ]
  },
  {
   "cell_type": "markdown",
   "id": "63f23016",
   "metadata": {},
   "source": [
    "# Bernoulli naive bayes\n"
   ]
  },
  {
   "cell_type": "code",
   "execution_count": 33,
   "id": "f29ac8c3",
   "metadata": {},
   "outputs": [],
   "source": [
    "from sklearn.naive_bayes import BernoulliNB\n",
    "berno=BernoulliNB()\n",
    "berno.fit(x_train,y_train)\n",
    "y_pred=gauss.predict(x_test)\n"
   ]
  },
  {
   "cell_type": "code",
   "execution_count": 34,
   "id": "7cf08b18",
   "metadata": {},
   "outputs": [
    {
     "name": "stdout",
     "output_type": "stream",
     "text": [
      "Accuracy score is: 0.9027692307692308\n",
      "Precision score is: 0.9025693041985821\n",
      "Recall score is: 0.9027708251798321\n",
      "f1 score is: 0.9026577191386108\n"
     ]
    }
   ],
   "source": [
    "\n",
    "print('Accuracy score is:',accuracy_score(y_test,y_pred))\n",
    "print('Precision score is:',precision_score(y_test,y_pred,average='macro'))\n",
    "print('Recall score is:',recall_score(y_test,y_pred,average='macro'))\n",
    "print('f1 score is:',f1_score(y_test,y_pred,average='macro'))"
   ]
  },
  {
   "cell_type": "code",
   "execution_count": 35,
   "id": "28f13cf4",
   "metadata": {},
   "outputs": [
    {
     "data": {
      "text/plain": [
       "array([[761,  82],\n",
       "       [ 76, 706]], dtype=int64)"
      ]
     },
     "execution_count": 35,
     "metadata": {},
     "output_type": "execute_result"
    }
   ],
   "source": [
    "\n",
    "confusion_matrix(y_test,y_pred)"
   ]
  },
  {
   "cell_type": "markdown",
   "id": "196cb3c4",
   "metadata": {},
   "source": [
    "# Linear SVM\n"
   ]
  },
  {
   "cell_type": "code",
   "execution_count": 36,
   "id": "c1e28857",
   "metadata": {},
   "outputs": [],
   "source": [
    "from sklearn.svm import SVC\n",
    "slinear=SVC(kernel='linear')\n",
    "slinear.fit(x_train,y_train)\n",
    "y_pred=slinear.predict(x_test)\n"
   ]
  },
  {
   "cell_type": "code",
   "execution_count": 37,
   "id": "44e07d39",
   "metadata": {},
   "outputs": [
    {
     "name": "stdout",
     "output_type": "stream",
     "text": [
      "Accuracy score is: 0.976\n",
      "Precision score is: 0.9758552100957545\n",
      "Recall score is: 0.9761280653372288\n",
      "f1 score is: 0.9759734678844407\n"
     ]
    }
   ],
   "source": [
    "print('Accuracy score is:',accuracy_score(y_test,y_pred))\n",
    "print('Precision score is:',precision_score(y_test,y_pred,average='macro'))\n",
    "print('Recall score is:',recall_score(y_test,y_pred,average='macro'))\n",
    "print('f1 score is:',f1_score(y_test,y_pred,average='macro'))"
   ]
  },
  {
   "cell_type": "code",
   "execution_count": 38,
   "id": "94eae3cb",
   "metadata": {},
   "outputs": [
    {
     "data": {
      "text/plain": [
       "array([[820,  23],\n",
       "       [ 16, 766]], dtype=int64)"
      ]
     },
     "execution_count": 38,
     "metadata": {},
     "output_type": "execute_result"
    }
   ],
   "source": [
    "confusion_matrix(y_test,y_pred)"
   ]
  },
  {
   "cell_type": "code",
   "execution_count": null,
   "id": "eccd96ff",
   "metadata": {},
   "outputs": [],
   "source": [
    "Inference\n",
    "1.All the classification models show  high accuracy score which is greater than 90%\n",
    "\n",
    "2.Some models like random forest and decision tree show a accuracy of 100%\n",
    "\n",
    "3.All the models are good for predicting if the mushroom is edible or poisonous.\n",
    "\n",
    "4. But random forest and decision tree are the best  models."
   ]
  }
 ],
 "metadata": {
  "kernelspec": {
   "display_name": "Python 3 (ipykernel)",
   "language": "python",
   "name": "python3"
  },
  "language_info": {
   "codemirror_mode": {
    "name": "ipython",
    "version": 3
   },
   "file_extension": ".py",
   "mimetype": "text/x-python",
   "name": "python",
   "nbconvert_exporter": "python",
   "pygments_lexer": "ipython3",
   "version": "3.9.7"
  }
 },
 "nbformat": 4,
 "nbformat_minor": 5
}
